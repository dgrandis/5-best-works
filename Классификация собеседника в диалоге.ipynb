{
  "nbformat": 4,
  "nbformat_minor": 0,
  "metadata": {
    "colab": {
      "provenance": [],
      "collapsed_sections": [
        "jeh-3ug5wIla",
        "mfih5mcLD6-r",
        "Cwn_8D46wuYS"
      ]
    },
    "kernelspec": {
      "name": "python3",
      "display_name": "Python 3"
    },
    "language_info": {
      "name": "python"
    },
    "accelerator": "GPU"
  },
  "cells": [
    {
      "cell_type": "markdown",
      "metadata": {
        "id": "_FAvCWdapu8L"
      },
      "source": [
        "Задание **Ultra pro**\n",
        "\n",
        "Выгрузите какой-нибудь из ваших диалогов любой соц.сети и напишите нейронную сеть для классификации собеседника по сообщению. \n",
        "\n",
        "Использование групповых чатов для обучения поощряется, но усложняет задачу. Если необходима конфиденциальность, датасет можно не предоставлять.\n",
        "\n",
        "Если вы решали эту задачу и для предыдущего занятия, то дополнительно необходимо провести эксперименты по разным сетям, сравнить качество и написать вывод, какой подход показал большую точность: с BOW или с CNN\\RNN."
      ]
    },
    {
      "cell_type": "markdown",
      "metadata": {
        "id": "8F2j9BQ9HdEo"
      },
      "source": [
        "**Ссылка на гугл диск, где лежат файлы-диалог (Обучающие и тестовые)**\n",
        "https://drive.google.com/drive/folders/1kEOMHDTKK_KbBFttWaubftlO8Qy3EWFB?usp=sharing"
      ]
    },
    {
      "cell_type": "markdown",
      "metadata": {
        "id": "DBx76ekkviqG"
      },
      "source": [
        "**Содержание:**\n",
        " - Подключение библиотек\n",
        " - Подготовка данных\n",
        "\n",
        " - Эксперименты:\n",
        "        1. BOW\n",
        "        2. LSTM\n",
        "        3. Conv1D\n",
        "        4. LSTM + Conv1D\n",
        "\n",
        " - Общая сравнительная таблица       \n",
        " - Выводы"
      ]
    },
    {
      "cell_type": "markdown",
      "metadata": {
        "id": "gZMp6N-LwZ7N"
      },
      "source": [
        "***Домашняя работа предоставлена со вложенными разделами, которые для удобства можно свернуть. ***"
      ]
    },
    {
      "cell_type": "markdown",
      "metadata": {
        "id": "jeh-3ug5wIla"
      },
      "source": [
        "## Подключение библиотек"
      ]
    },
    {
      "cell_type": "code",
      "metadata": {
        "id": "fpm33-NBpoVT"
      },
      "source": [
        "import numpy as np\n",
        "import pandas as pd\n",
        "import os\n",
        "from tensorflow.keras import utils\n",
        "from tensorflow.keras import Sequential\n",
        "from tensorflow.keras.layers import Dense, Dropout, BatchNormalization, Embedding, Flatten\n",
        "from tensorflow.keras.layers import Conv1D, SpatialDropout1D, MaxPooling1D, GlobalAveragePooling1D, GlobalMaxPooling1D\n",
        "from tensorflow.keras.layers import LSTM, GRU, SimpleRNN, Bidirectional\n",
        "from tensorflow.keras.optimizers import RMSprop, Adam\n",
        "from keras.preprocessing.text import Tokenizer, text_to_word_sequence\n",
        "from google.colab import files, drive\n",
        "import matplotlib.pyplot as plt\n",
        "%matplotlib inline"
      ],
      "execution_count": null,
      "outputs": []
    },
    {
      "cell_type": "code",
      "metadata": {
        "colab": {
          "base_uri": "https://localhost:8080/"
        },
        "id": "32cpLrAr_4ag",
        "outputId": "7becd07b-a93f-4ace-abb8-288eeb2ce44c"
      },
      "source": [
        "drive.mount('/content/drive')"
      ],
      "execution_count": null,
      "outputs": [
        {
          "output_type": "stream",
          "text": [
            "Mounted at /content/drive\n"
          ],
          "name": "stdout"
        }
      ]
    },
    {
      "cell_type": "markdown",
      "metadata": {
        "id": "mfih5mcLD6-r"
      },
      "source": [
        "# Подготовка данных"
      ]
    },
    {
      "cell_type": "code",
      "metadata": {
        "id": "fuKTe6hZCmJH"
      },
      "source": [
        "# Создадим функцию для первоначальной обработки файла\n",
        "def readText(fileName):\n",
        "  return open(fileName, 'r').read().replace(\"\\n\", \" \")       # Возвращаем измененный файл"
      ],
      "execution_count": null,
      "outputs": []
    },
    {
      "cell_type": "code",
      "metadata": {
        "colab": {
          "base_uri": "https://localhost:8080/"
        },
        "id": "Rm_Lqah8RGLc",
        "outputId": "fd05c0e9-7e16-44ba-9fa4-ea0530898a90"
      },
      "source": [
        "# Объявим классы. Запишем в список\n",
        "className = [\"Юля\", \"Елена\"]\n",
        "nClasses = len(className)\n",
        "\n",
        "# Подсчитаем кол-во нужных нам классов\n",
        "len(className)"
      ],
      "execution_count": null,
      "outputs": [
        {
          "output_type": "execute_result",
          "data": {
            "text/plain": [
              "2"
            ]
          },
          "metadata": {
            "tags": []
          },
          "execution_count": 4
        }
      ]
    },
    {
      "cell_type": "markdown",
      "metadata": {
        "id": "HKSccN_3Sqcu"
      },
      "source": [
        "## Загрузим обучающие тексты"
      ]
    },
    {
      "cell_type": "code",
      "metadata": {
        "id": "ovR5MHrbSZP3"
      },
      "source": [
        "# Создадим 2 пустых списка (обучающий и проверочный), для последующего заполнения\n",
        "\n",
        "trainText = []\n",
        "testText = []"
      ],
      "execution_count": null,
      "outputs": []
    },
    {
      "cell_type": "code",
      "metadata": {
        "id": "wt4Qv238WXbd",
        "colab": {
          "base_uri": "https://localhost:8080/"
        },
        "outputId": "d2927290-a0f2-45a5-e177-96c1825284c6"
      },
      "source": [
        "# Пройдемся двумя циклами для заполнения списков. Так чтобы каждый i элемент в обучающей выборке соответствовал j элементу в тестовой.\n",
        "\n",
        "for i in className:                                  # Проходим по каждому классу из списка [\"О. Генри\", \"Стругацкие\", \"Булгаков\", \"Саймак\", \"Фрай\", \"Брэдберри\"\n",
        "  for j in os.listdir('/content/drive/MyDrive/Диалог/'):                     # Вторым циклом проходим по каждому файлу из папки texts\n",
        "    if i in j:                                       # Если класс из списка содержится в папке texts, тогда\n",
        "      if 'Обучающая' in j:                           # Если в имени файла содержится данное слово \"Обучающая\", то \n",
        "        trainText.append(readText('/content/drive/MyDrive/Диалог/' +j))      # Добавить в обучающую выборку\n",
        "        print (j, 'добавлен в обучающую выборку')    # Проверим добавился или нет\n",
        "      if 'Тестовая' in j:                            # Если в имени файла содержится данное слово \"Тестовая\", то \n",
        "        testText.append(readText('/content/drive/MyDrive/Диалог/' +j))       # Добавить в тестовую выборку\n",
        "        print (j, 'добавлен в тестовую выборку')     # Проверим добавился или нет\n",
        "  print ()                                           # Для разделения до   "
      ],
      "execution_count": null,
      "outputs": [
        {
          "output_type": "stream",
          "text": [
            "(Юля) Тестовая.txt добавлен в тестовую выборку\n",
            "(Юля ) Обучающая.txt добавлен в обучающую выборку\n",
            "\n",
            "(Елена) Тестовая.txt добавлен в тестовую выборку\n",
            "(Елена ) Обучающая.txt добавлен в обучающую выборку\n",
            "\n"
          ],
          "name": "stdout"
        }
      ]
    },
    {
      "cell_type": "code",
      "metadata": {
        "colab": {
          "base_uri": "https://localhost:8080/"
        },
        "id": "-ThwYyIwJtXR",
        "outputId": "15dd47a6-3c49-46c9-ef85-78177a727ff5"
      },
      "source": [
        "# Посмотрим на результат работы\n",
        "# Длина списка\n",
        "print (\"Длина списка trainText: \",len(trainText))\n",
        "\n",
        "# Так же например узнать кол-во символов в одном из обучающих текстов\n",
        "print (\"Количество символов в обучающей выборке: \",len(trainText[1]))\n",
        "print (\"Количество символов в тестовой выборке: \",len(testText[1]))\n"
      ],
      "execution_count": null,
      "outputs": [
        {
          "output_type": "stream",
          "text": [
            "Длина списка trainText:  2\n",
            "Количество символов в обучающей выборке:  101631\n",
            "Количество символов в тестовой выборке:  46689\n"
          ],
          "name": "stdout"
        }
      ]
    },
    {
      "cell_type": "markdown",
      "metadata": {
        "id": "5SVi8toJM1Zd"
      },
      "source": [
        "## Обработка данных. Преобразование в числовые векторы"
      ]
    },
    {
      "cell_type": "code",
      "metadata": {
        "id": "iSKyeNN5M58p"
      },
      "source": [
        "maxWordsCount = 6700    # Зададим максимальное кол-во слов/индексов при обучении\n",
        "\n",
        "# C помощью функции Tokenizer разобъем текст и превратим в матрицу числовых значений\n",
        "tokenizer = Tokenizer(num_words = maxWordsCount, filters = '!\"#$%&()*+,-–—./…:;<=>?@[\\\\]^_`{|}~«»\\t\\n\\xa0\\ufeff', lower=True, split=' ', oov_token ='unknow', char_level = False)\n",
        "\n",
        "tokenizer.fit_on_texts(trainText)     # Обрабатываем методом fit_on_texts подготовленный обучающий список trainText\n",
        "\n",
        "# Для просмотра нужно вытащить индексы слов c помощью метода word_index.items и сделать из него список\n",
        "items = list(tokenizer.word_index.items())"
      ],
      "execution_count": null,
      "outputs": []
    },
    {
      "cell_type": "code",
      "metadata": {
        "colab": {
          "base_uri": "https://localhost:8080/"
        },
        "id": "ex0R9okvUKUM",
        "outputId": "3e2ab8f1-0c4e-4601-ff82-18fc060dfebd"
      },
      "source": [
        "# Посмотрим на результат.\n",
        "# 10 самых часто встречающихся слов:\n",
        "print (items[:10])"
      ],
      "execution_count": null,
      "outputs": [
        {
          "output_type": "stream",
          "text": [
            "[('unknow', 1), ('и', 2), ('в', 3), ('не', 4), ('а', 5), ('на', 6), ('с', 7), ('у', 8), ('я', 9), ('что', 10)]\n"
          ],
          "name": "stdout"
        }
      ]
    },
    {
      "cell_type": "code",
      "metadata": {
        "colab": {
          "base_uri": "https://localhost:8080/"
        },
        "id": "ECeMqnljflf4",
        "outputId": "e4b86f7c-02d5-4894-8fd5-27bb6b653375"
      },
      "source": [
        "# И 10 самых редких слов \n",
        "print (items[-10:])"
      ],
      "execution_count": null,
      "outputs": [
        {
          "output_type": "stream",
          "text": [
            "[('полетим', 6692), ('кнопочки', 6693), ('выбираем', 6694), ('аэропорту', 6695), ('понянькаться', 6696), ('экскурсии', 6697), ('поездить', 6698), ('переносят', 6699), ('закладывает', 6700), ('приноровились', 6701)]\n"
          ],
          "name": "stdout"
        }
      ]
    },
    {
      "cell_type": "code",
      "metadata": {
        "colab": {
          "base_uri": "https://localhost:8080/"
        },
        "id": "1LxqRx6hf4F0",
        "outputId": "5f160371-c387-40ca-dee1-89193617b828"
      },
      "source": [
        "# Размер словаря.\n",
        "len(items)"
      ],
      "execution_count": null,
      "outputs": [
        {
          "output_type": "execute_result",
          "data": {
            "text/plain": [
              "6701"
            ]
          },
          "metadata": {
            "tags": []
          },
          "execution_count": 11
        }
      ]
    },
    {
      "cell_type": "code",
      "metadata": {
        "id": "WisFExXWjF_o"
      },
      "source": [
        "# Теперь согласно частотному словарю можно преобразовать текст в последовательность индексов\n",
        "\n",
        "trainWordIndexes = tokenizer.texts_to_sequences(trainText)   # Обучающие в индексы\n",
        "testWordIndexes = tokenizer.texts_to_sequences(testText)     # Проверочные в индексы"
      ],
      "execution_count": null,
      "outputs": []
    },
    {
      "cell_type": "code",
      "metadata": {
        "colab": {
          "base_uri": "https://localhost:8080/"
        },
        "id": "IfVs09nqlzaL",
        "outputId": "9b037734-aef9-4e60-adea-fb4f7de2df02"
      },
      "source": [
        "# Посмотрим информацию об этих переменных. Тип и размер.\n",
        "print (type(trainWordIndexes))   \n",
        "print (type(testWordIndexes))   \n",
        "print (len(trainWordIndexes))\n",
        "print (len(testWordIndexes)) \n",
        "# trainWordIndexes и testWordIndexes являются списками (list)"
      ],
      "execution_count": null,
      "outputs": [
        {
          "output_type": "stream",
          "text": [
            "<class 'list'>\n",
            "<class 'list'>\n",
            "2\n",
            "2\n"
          ],
          "name": "stdout"
        }
      ]
    },
    {
      "cell_type": "code",
      "metadata": {
        "colab": {
          "base_uri": "https://localhost:8080/"
        },
        "id": "H1Vyedpbn_1j",
        "outputId": "46e67a5f-2c38-4e89-ff89-48a834f61c23"
      },
      "source": [
        "# Можно посмотреть как именно преобразовывается текст\n",
        "print (\"В оригинале:                   \", trainText[0][:40])\n",
        "print (\"В последовательности индексов: \", trainWordIndexes[0][:7])"
      ],
      "execution_count": null,
      "outputs": [
        {
          "output_type": "stream",
          "text": [
            "В оригинале:                    А так с ребятами бегает \"штабы\" строят..\n",
            "В последовательности индексов:  [5, 17, 7, 1746, 595, 3400, 1747]\n"
          ],
          "name": "stdout"
        }
      ]
    },
    {
      "cell_type": "markdown",
      "metadata": {
        "id": "OtMJaO-qs9v3"
      },
      "source": [
        "## Собирем общую статистику"
      ]
    },
    {
      "cell_type": "code",
      "metadata": {
        "colab": {
          "base_uri": "https://localhost:8080/"
        },
        "id": "mG31JJJDsz0Y",
        "outputId": "ba49b95b-2334-48ac-e38b-dfdd73ea53fc"
      },
      "source": [
        "# Перед подачей в нейронную сеть стоит убедиться что собранная база корректна. Для этого:\n",
        "\n",
        "symbolsTrainText = 0 # Создадим счетчик для подстчета символов в обучающих текстах\n",
        "wordsTrainText = 0   # Так же счетчик слов\n",
        "\n",
        "# Пройдемся циклом по всем классам\n",
        "print (\"Общая статистика по обучающим текстам:\\n\")\n",
        "\n",
        "for i in range(nClasses):\n",
        "    print (className[i], ' '*(10-len(className[i])), len(trainText[i]), \"символов и\", len(trainWordIndexes[i]), \"слов\")\n",
        "    symbolsTrainText += len(trainText[i])       # Общее кол-во символов\n",
        "    wordsTrainText += len(trainWordIndexes[i])  # Общее кол-во слов\n",
        "\n",
        "print(\"\\nВ сумме \", symbolsTrainText, \"символов и \", wordsTrainText, \"слов\\n--------------------------------------------\")\n",
        "\n",
        "\n",
        "# Аналогично посмотрим по тестовым\n",
        "\n",
        "print (\"\\nОбщая статистика по тестовым текстам:\\n\")\n",
        "\n",
        "symbolsTestText = 0 \n",
        "wordsTestText = 0\n",
        "\n",
        "for i in range(nClasses):\n",
        "    print (className[i], ' '*(10-len(className[i])), len(testText[i]), \"символов и\", len(testWordIndexes[i]), \"слов\")\n",
        "    symbolsTestText += len(testText[i])       \n",
        "    wordsTestText += len(testWordIndexes[i]) \n",
        "print(\"\\nВ сумме \", symbolsTestText, \"символов и \", wordsTestText, \"слов\")"
      ],
      "execution_count": null,
      "outputs": [
        {
          "output_type": "stream",
          "text": [
            "Общая статистика по обучающим текстам:\n",
            "\n",
            "Юля         99961 символов и 16504 слов\n",
            "Елена       101631 символов и 16842 слов\n",
            "\n",
            "В сумме  201592 символов и  33346 слов\n",
            "--------------------------------------------\n",
            "\n",
            "Общая статистика по тестовым текстам:\n",
            "\n",
            "Юля         48234 символов и 8127 слов\n",
            "Елена       46689 символов и 7575 слов\n",
            "\n",
            "В сумме  94923 символов и  15702 слов\n"
          ],
          "name": "stdout"
        }
      ]
    },
    {
      "cell_type": "code",
      "metadata": {
        "id": "1cTWrpamEJ7J"
      },
      "source": [
        "# Видно что с такой базой можно работать. Нет перекоса. Можно приступать к созданию выборок (обучающей и проверочной)"
      ],
      "execution_count": null,
      "outputs": []
    },
    {
      "cell_type": "markdown",
      "metadata": {
        "id": "ifxCpzBExIAO"
      },
      "source": [
        "## Создание обучающей и проверочной выборок"
      ]
    },
    {
      "cell_type": "code",
      "metadata": {
        "id": "3075MhUNxRj2"
      },
      "source": [
        "# Для начала создадим функции. \n",
        "# Первая для разделения на короткие векторы с заданным шагом и размером\n",
        "\n",
        "def getSetFromIndexes (wordIndexes, xLen, step):     # В качестве аргументов принимает (trainWordIndexes или testWordIndexes - список, размер и шаг) \n",
        "  xSample = []                                        # Созадим пустой спискок для хранения векторов\n",
        "  wordsLen = len(wordIndexes)                         # Кол-во слов в поданных на вход trainWordIndexes или testWordIndexes\n",
        "  index = 0                                           # Начальный индекс (с помощью этой переменной будем сдвигать шаг)\n",
        "\n",
        "\n",
        "  while (index + xLen <= wordsLen):                   # Задаем цикл пока не дойдем до конца    \n",
        "    xSample.append(wordIndexes[index:index + xLen])   # На каждой итерации добавляем в список кусок вектора заданной длины\n",
        "    index += step                                     # Смещаемся на шаг\n",
        "\n",
        "  return xSample"
      ],
      "execution_count": null,
      "outputs": []
    },
    {
      "cell_type": "code",
      "metadata": {
        "id": "EeUE6RwDxZJg"
      },
      "source": [
        "# Вторая функция для формирования обучающей и проверочной выборок\n",
        "\n",
        "def createSetsMultiClasses(wordIndexes, xLen, step):\n",
        "  nClasses = len(wordIndexes)                            # Зададим кол-во классов выборки\n",
        "  classesXSample = []                                    # Создадим пустой список в котором будут храниться список нарезанных кусочков предыдущей функцией getSetFromIndexes\n",
        "\n",
        "  # Пройдемся циклом по каждому тексту выборки из последовательнстей индексов\n",
        "  for i in wordIndexes:\n",
        "    classesXSample.append(getSetFromIndexes(i, xLen, step))\n",
        "  \n",
        "  # Сформируем один общий список\n",
        "  xSamples = []                                           # Создаем пустые списки\n",
        "  ySamples = []\n",
        "\n",
        "  for t in range(nClasses):                               # В нашем случаи цикл от 0 до 6 (кол-во классов)\n",
        "    xT = classesXSample[t]                                # На каждой итерации цикла берем очередной нарезанный текст одного из класса\n",
        "\n",
        "    for i in range (len(xT)):                             # Циклом проходимся по каждому его окну\n",
        "      xSamples.append(xT[i])                              # Добавляем в общий список обучающей выборке\n",
        "      ySamples.append(utils.to_categorical(t, nClasses))  # И соответствующий вектор класса\n",
        "  \n",
        "  # Переводим в numpy массив\n",
        "  xSamples = np.array(xSamples)                           \n",
        "  ySamples = np.array(ySamples)    \n",
        "\n",
        "  # B возвращаем выборки\n",
        "  return (xSamples, ySamples)"
      ],
      "execution_count": null,
      "outputs": []
    },
    {
      "cell_type": "code",
      "metadata": {
        "id": "yzKrKxi9Wmfd"
      },
      "source": [
        "# Создадим еще одну функцию которая будет распознавать тестовую выборку и выводить результаты\n",
        "def recognizerMultiClass (model, xTest, modelName):\n",
        "  print (\"Название нейронной сети: \", modelName)        # Для наглядности выведем название сети\n",
        "  print ()                                              # Пропустим стороку\n",
        "  totalSumRec = 0                                       # Создадим счетчик суммы правильных ответов\n",
        "\n",
        "  # Пройдемся циклом по всем классам\n",
        "  for i in range(nClasses):                             # От 0 до 6 \n",
        "    currPred = model.predict(xTest[i])                  # Получим результаты распознования класса по блокам слов длинны xLen.\n",
        "    currOut = np.argmax(currPred, axis=1)               # Определим номер распознанного класса с помощью функции argmax\n",
        "    evVal = []\n",
        "    \n",
        "    for j in range(nClasses):\n",
        "      evVal.append(len(currOut[currOut==j])/len(xTest[i]))\n",
        "\n",
        "    totalSumRec +=len(currOut[currOut==i])\n",
        "    recognizedClass = np.argmax(evVal)                  # Определяем какой класс за какой был распознан в итоге\n",
        "\n",
        "    # И выводим результаты\n",
        "\n",
        "    isRecognized = \"Ответ НЕВЕРНЫЙ, УВЫ\"\n",
        "    if (recognizedClass == i):\n",
        "      isRecognized = \"УРА, ответ ВЕРНЫЙ!\"\n",
        "    \n",
        "    str1 = 'Класс: ' + className[i] + \" \" * (11 - len(className[i])) + str(int(100*evVal[i])) + \"% сеть предсказала: \" + className[recognizedClass]\n",
        "    print(str1, \" \" * (55-len(str1)), isRecognized, sep='')\n",
        "\n",
        "  # Выведим средний процент распознавания \n",
        "  print ()                                                                          # Пустая строка чтобы отделить\n",
        "  sumCount = 0\n",
        "  # Пройдемся циклом по всем циклам\n",
        "  for i in range(nClasses):\n",
        "    sumCount += len(xTest[i])\n",
        "  print (\"Средний процент распознавания \", int(100*totalSumRec/sumCount), \"%\")\n",
        "  print ()                                                                          # Пустая строка чтобы отделить\n",
        "\n",
        "  return totalSumRec/sumCount"
      ],
      "execution_count": null,
      "outputs": []
    },
    {
      "cell_type": "code",
      "metadata": {
        "id": "vpC_MbtEDpY2"
      },
      "source": [
        "# Функция для распознавания тестовой выборки и вывод результата\n",
        "def recognizeMultiClass(model, xTest, modelName):\n",
        "\n",
        "  print(\"Нейронная сеть: \", modelName)\n",
        "  print()\n",
        "\n",
        "  val = []\n",
        "  pred = []\n",
        "  totalSumRec = []\n",
        "\n",
        "  # Циклом прохоим по всем классам\n",
        "  for i in range(nClasses):\n",
        "    currPred = model.predict(xTest[i])    # Получение результата распознавания класса по блокам слов длинной xLen\n",
        "    pred.append(currPred)\n",
        "    currOut = np.argmax(currPred, axis=1)\n",
        "\n",
        "    # Подсчет процента распознавания каждого класса\n",
        "\n",
        "    evVal = []\n",
        "    sumRec = []\n",
        "\n",
        "    for j in range(nClasses):\n",
        "      sumRec.append(0)\n",
        "      for t in range(len(currOut)):\n",
        "        if (currOut[t] == j):\n",
        "          sumRec[j] += 1\n",
        "      evVal.append(sumRec[j] / len(currOut))\n",
        "\n",
        "    totalSumRec.append(sumRec[i])\n",
        "\n",
        "    # Определение какой класс за какой был распознан\n",
        "    val.append(evVal[i])\n",
        "    recognizedClass = np.argmax(evVal)\n",
        "\n",
        "    # Вывод результата распознавания по текущему классу\n",
        "    isRecognized = \"распознано НЕ ВЕРНО!\"\n",
        "    if (recognizedClass == i):\n",
        "      isRecognized = \"распознано ВЕРНО!\"\n",
        "    print(className[i], \" распознано \", int(100*evVal[i]), \"% сеть считает, что это \", className[recognizedClass], \", \", isRecognized)\n",
        "\n",
        "  # Вывод среднего процента по всем классам\n",
        "  print()\n",
        "  sumVal = 0\n",
        "  sumCount = 0\n",
        "  lenXtest = []\n",
        "    \n",
        "  for i in range(nClasses):\n",
        "    sumCount += len(xTest[i])\n",
        "    sumVal += totalSumRec[i]\n",
        "\n",
        "  average = int(100*sumVal/sumCount)\n",
        "  print(\"Средний процент распознавания \", average, \"%\")\n",
        "  return val, average\n",
        "  "
      ],
      "execution_count": null,
      "outputs": []
    },
    {
      "cell_type": "code",
      "metadata": {
        "id": "mndi_l1HoShQ"
      },
      "source": [
        "# Создадим функцию которая будет представлять выборку в удобном для распознавания размерах\n",
        "\n",
        "def createTestMultiClasses(wordIndexes, xLen, step):\n",
        "\n",
        "  # Создаем тестовую выборку из индексов для каждого из 6 классов\n",
        "  nClasses = len(wordIndexes)                                             # Переменной nClasses присвоим кол-во классов\n",
        "  xTest6ClassesBow = []                                                   # Создадим пустой список, в котором будут список из всех классов\n",
        "  xTest6Classec = []                                                      # Создадим список массивов\n",
        "\n",
        "  # Пройдемся циклом по каждому тестовому тексту из последовательности индексов\n",
        "  for i in wordIndexes:\n",
        "    sample = (getSetFromIndexes(i,xLen, step))                            # Воспользуемся ранее написанной функцией для нарезки на векторы\n",
        "    xTest6Classec.append(sample)                                          # Добавляем в список на каждой итерации \n",
        "    xTest6ClassesBow.append(tokenizer.sequences_to_matrix(sample))        # Трансформируем в BOW\n",
        "  \n",
        "  xTest6ClassesBow = np.array(xTest6ClassesBow)                           # Переводим в numpy массив\n",
        "  xTest6Classec = np.array(xTest6Classec)                                 # Переводим в numpy массив\n",
        "\n",
        "  return xTest6ClassesBow, xTest6Classec"
      ],
      "execution_count": null,
      "outputs": []
    },
    {
      "cell_type": "markdown",
      "metadata": {
        "id": "tPWEOWWWAw2f"
      },
      "source": [
        "## Подготовка обучающей и тестовой выборок"
      ]
    },
    {
      "cell_type": "code",
      "metadata": {
        "id": "q1W28QCS30ce"
      },
      "source": [
        "# Установим базовые параметры\n",
        "xLen = 200        # Длина отрезка текста на которые будет разбивать функция getSetFromIndexes\n",
        "step = 20         # Шаг разбивания для той же функции"
      ],
      "execution_count": null,
      "outputs": []
    },
    {
      "cell_type": "code",
      "metadata": {
        "colab": {
          "base_uri": "https://localhost:8080/"
        },
        "id": "w-gqTbQdBNL8",
        "outputId": "dc594d6a-d248-46af-b3c6-4f0527e3a0b4"
      },
      "source": [
        "# Сформируем выборки (обучающую и тестовую)\n",
        "xTrain, yTrain = createSetsMultiClasses(trainWordIndexes, xLen, step)\n",
        "xTest, yTest = createSetsMultiClasses(testWordIndexes, xLen, step)\n",
        "\n",
        "# Посмотрим что в итоге получилось\n",
        "print (xTrain.shape)\n",
        "print (yTrain.shape)\n",
        "print (xTest.shape)\n",
        "print (yTest.shape)"
      ],
      "execution_count": null,
      "outputs": [
        {
          "output_type": "stream",
          "text": [
            "(1649, 200)\n",
            "(1649, 2)\n",
            "(766, 200)\n",
            "(766, 2)\n"
          ],
          "name": "stdout"
        }
      ]
    },
    {
      "cell_type": "markdown",
      "metadata": {
        "id": "NFe_HANtE7J2"
      },
      "source": [
        "Для Embedding обучающие и тестовые наборы готовы, но для BOW нужно xTrain и yTrain представить в виде векторов из 0 и 1"
      ]
    },
    {
      "cell_type": "code",
      "metadata": {
        "colab": {
          "base_uri": "https://localhost:8080/"
        },
        "id": "rHDCt2SJFO0q",
        "outputId": "1c8ebcb1-5017-4276-fe39-02919504d345"
      },
      "source": [
        "# Преобразовываем в матрицы нулей и единиц по принципу BOW. xTrain и yTrain подаем в виду списка. \n",
        "xTrainBOW = tokenizer.sequences_to_matrix(xTrain.tolist())      \n",
        "xTestBOW = tokenizer.sequences_to_matrix(xTest.tolist())      \n",
        "\n",
        "# Посмотрим на размер обучающей выборки, сформированной по BOW\n",
        "print (xTrainBOW.shape)\n",
        "print (xTestBOW.shape)\n",
        "\n",
        "#print (\"Время обработки:\", round(time.time() - cur_time, 2), 'c')"
      ],
      "execution_count": null,
      "outputs": [
        {
          "output_type": "stream",
          "text": [
            "(1649, 6700)\n",
            "(766, 6700)\n"
          ],
          "name": "stdout"
        }
      ]
    },
    {
      "cell_type": "code",
      "metadata": {
        "colab": {
          "base_uri": "https://localhost:8080/"
        },
        "id": "56YJje_fk7r5",
        "outputId": "5062dcaf-f9ea-48f5-d19d-296a2c0c5717"
      },
      "source": [
        "# Преобразуем тестовую выборку\n",
        "xTest6ClassesBow, xTest6Classes = createTestMultiClasses(testWordIndexes, xLen, step)"
      ],
      "execution_count": null,
      "outputs": [
        {
          "output_type": "stream",
          "text": [
            "/usr/local/lib/python3.7/dist-packages/ipykernel_launcher.py:16: VisibleDeprecationWarning: Creating an ndarray from ragged nested sequences (which is a list-or-tuple of lists-or-tuples-or ndarrays with different lengths or shapes) is deprecated. If you meant to do this, you must specify 'dtype=object' when creating the ndarray\n",
            "  app.launch_new_instance()\n",
            "/usr/local/lib/python3.7/dist-packages/ipykernel_launcher.py:17: VisibleDeprecationWarning: Creating an ndarray from ragged nested sequences (which is a list-or-tuple of lists-or-tuples-or ndarrays with different lengths or shapes) is deprecated. If you meant to do this, you must specify 'dtype=object' when creating the ndarray\n"
          ],
          "name": "stderr"
        }
      ]
    },
    {
      "cell_type": "markdown",
      "metadata": {
        "id": "Cwn_8D46wuYS"
      },
      "source": [
        "## Функция: вывода summary и схемы нейронной сети и графика обучения"
      ]
    },
    {
      "cell_type": "code",
      "metadata": {
        "id": "7mbPG9piwuYT"
      },
      "source": [
        "# Функция вывода summary и схемы нейронной сети\n",
        "def showModel(model):\n",
        "  #model.summary()\n",
        "  print (\"\\n\\n\")\n",
        "  return plot_model(model, dpi=80, show_shapes=True)"
      ],
      "execution_count": null,
      "outputs": []
    },
    {
      "cell_type": "code",
      "metadata": {
        "id": "0b-sV5JRwuYU"
      },
      "source": [
        "# Функция вывода графиков\n",
        "def chart(hist):\n",
        "  plt.figure(figsize=(10,5))\n",
        "  plt.plot(hist.history['loss'], label = 'Доля ошибки  на обучающем наборе')\n",
        "  plt.plot(hist.history['val_loss'], label = 'Доля ошибки на проверочном наборе')\n",
        "  plt.xlabel('Эпоха обучения')\n",
        "  plt.ylabel('Доля ошибки')\n",
        "  plt.legend()\n",
        "  plt.show()\n",
        "\n",
        "  plt.figure(figsize=(10,5))\n",
        "  plt.plot(hist.history['accuracy'], label = 'Доля верных ответов на обучающем наборе')\n",
        "  plt.plot(hist.history['val_accuracy'], label = 'Доля верных ответов на проверочном наборе')\n",
        "  plt.xlabel('Эпоха обучения')\n",
        "  plt.ylabel('Доля верных ответов')\n",
        "  plt.legend()\n",
        "  plt.show()"
      ],
      "execution_count": null,
      "outputs": []
    },
    {
      "cell_type": "code",
      "metadata": {
        "id": "0tQwMtqiwuYV"
      },
      "source": [
        "# Функция для сохранения результата обучения. С последующей записью в таблицу pandas. \n",
        "def table(hist):\n",
        "  dct = []  \n",
        "  # В цикле проходимся по всем значениям из history                                                  \n",
        "  for i in hist.history.values():                                        \n",
        "    dct.append(i)                                            # Результат выгружаются в словарь.                                                                \n",
        "  result = np.array(dct)                                     # Переводим в numpy массив. \n",
        "  return result"
      ],
      "execution_count": null,
      "outputs": []
    },
    {
      "cell_type": "code",
      "metadata": {
        "id": "e4K9FkJ-erlG"
      },
      "source": [
        "# Создадим таблицу [Значения maxWordsCount, Число нейроново в слое Dense, Значение в слое Dropout, Активационная функция в первом слое Dense, Кол-во эпох, размер batch_size, Ошибки, Точность ]\n",
        "df = pd.DataFrame(columns = ['Юля', 'Елена', 'learn_loss(min)', 'learn_accuracy(max)', 'val_loss(min)', 'val_accuracy(max)', 'Средний процент распознавания на проверочной выборке'])"
      ],
      "execution_count": null,
      "outputs": []
    },
    {
      "cell_type": "markdown",
      "metadata": {
        "id": "WbX3PxKXJG7j"
      },
      "source": [
        "# Эксперименты: "
      ]
    },
    {
      "cell_type": "markdown",
      "metadata": {
        "id": "GIlQTc4CJNVd"
      },
      "source": [
        "## 1. Нейронная сеть для BOW"
      ]
    },
    {
      "cell_type": "code",
      "metadata": {
        "id": "1GHzKxYtJXVi"
      },
      "source": [
        "# Создадим полносвязную сеть\n",
        "model_Bow = Sequential()\n",
        "model_Bow.add(Dense(300, input_dim=maxWordsCount, activation = 'relu'))  \n",
        "model_Bow.add(Dropout(0.5))\n",
        "model_Bow.add(BatchNormalization())\n",
        "model_Bow.add(Dense(2, activation ='softmax'))"
      ],
      "execution_count": null,
      "outputs": []
    },
    {
      "cell_type": "code",
      "metadata": {
        "id": "OusG9ExoMVUm"
      },
      "source": [
        "# Скомпилируем ее\n",
        "model_Bow.compile(optimizer = 'RMSprop', loss='binary_crossentropy', metrics=['accuracy'])"
      ],
      "execution_count": null,
      "outputs": []
    },
    {
      "cell_type": "markdown",
      "metadata": {
        "id": "isDSCJwAutHN"
      },
      "source": [
        "### Обучение"
      ]
    },
    {
      "cell_type": "code",
      "metadata": {
        "colab": {
          "base_uri": "https://localhost:8080/"
        },
        "id": "UQzFAFwPMvus",
        "outputId": "cbb16ece-8f6a-44fa-ce3f-94fa845b108e"
      },
      "source": [
        "# Обучаем сеть на выборке, xTrainBOW\n",
        "\n",
        "history_Bow = model_Bow.fit(xTrainBOW, yTrain, epochs=30, batch_size = 50, validation_data=(xTestBOW, yTest))"
      ],
      "execution_count": null,
      "outputs": [
        {
          "output_type": "stream",
          "text": [
            "Epoch 1/30\n",
            "33/33 [==============================] - 1s 9ms/step - loss: 0.0820 - accuracy: 0.9739 - val_loss: 0.3629 - val_accuracy: 0.8747\n",
            "Epoch 2/30\n",
            "33/33 [==============================] - 0s 6ms/step - loss: 0.0028 - accuracy: 1.0000 - val_loss: 0.2747 - val_accuracy: 0.9138\n",
            "Epoch 3/30\n",
            "33/33 [==============================] - 0s 6ms/step - loss: 6.8576e-04 - accuracy: 1.0000 - val_loss: 0.2127 - val_accuracy: 0.9256\n",
            "Epoch 4/30\n",
            "33/33 [==============================] - 0s 7ms/step - loss: 2.4686e-04 - accuracy: 1.0000 - val_loss: 0.1523 - val_accuracy: 0.9504\n",
            "Epoch 5/30\n",
            "33/33 [==============================] - 0s 6ms/step - loss: 5.2326e-05 - accuracy: 1.0000 - val_loss: 0.1962 - val_accuracy: 0.9191\n",
            "Epoch 6/30\n",
            "33/33 [==============================] - 0s 6ms/step - loss: 6.6976e-05 - accuracy: 1.0000 - val_loss: 0.0929 - val_accuracy: 0.9634\n",
            "Epoch 7/30\n",
            "33/33 [==============================] - 0s 5ms/step - loss: 1.2366e-05 - accuracy: 1.0000 - val_loss: 0.2013 - val_accuracy: 0.9138\n",
            "Epoch 8/30\n",
            "33/33 [==============================] - 0s 7ms/step - loss: 4.0074e-06 - accuracy: 1.0000 - val_loss: 0.3404 - val_accuracy: 0.8668\n",
            "Epoch 9/30\n",
            "33/33 [==============================] - 0s 5ms/step - loss: 3.3370e-06 - accuracy: 1.0000 - val_loss: 0.2970 - val_accuracy: 0.8838\n",
            "Epoch 10/30\n",
            "33/33 [==============================] - 0s 6ms/step - loss: 1.6682e-06 - accuracy: 1.0000 - val_loss: 0.1556 - val_accuracy: 0.9413\n",
            "Epoch 11/30\n",
            "33/33 [==============================] - 0s 5ms/step - loss: 5.3672e-07 - accuracy: 1.0000 - val_loss: 0.1706 - val_accuracy: 0.9373\n",
            "Epoch 12/30\n",
            "33/33 [==============================] - 0s 7ms/step - loss: 1.9786e-07 - accuracy: 1.0000 - val_loss: 0.1500 - val_accuracy: 0.9465\n",
            "Epoch 13/30\n",
            "33/33 [==============================] - 0s 6ms/step - loss: 1.9378e-07 - accuracy: 1.0000 - val_loss: 0.1346 - val_accuracy: 0.9478\n",
            "Epoch 14/30\n",
            "33/33 [==============================] - 0s 5ms/step - loss: 9.6530e-08 - accuracy: 1.0000 - val_loss: 0.1408 - val_accuracy: 0.9465\n",
            "Epoch 15/30\n",
            "33/33 [==============================] - 0s 6ms/step - loss: 3.2489e-08 - accuracy: 1.0000 - val_loss: 0.1453 - val_accuracy: 0.9465\n",
            "Epoch 16/30\n",
            "33/33 [==============================] - 0s 7ms/step - loss: 7.0949e-08 - accuracy: 1.0000 - val_loss: 0.1755 - val_accuracy: 0.9334\n",
            "Epoch 17/30\n",
            "33/33 [==============================] - 0s 6ms/step - loss: 4.4550e-08 - accuracy: 1.0000 - val_loss: 0.1743 - val_accuracy: 0.9334\n",
            "Epoch 18/30\n",
            "33/33 [==============================] - 0s 6ms/step - loss: 5.1489e-08 - accuracy: 1.0000 - val_loss: 0.1860 - val_accuracy: 0.9295\n",
            "Epoch 19/30\n",
            "33/33 [==============================] - 0s 5ms/step - loss: 4.1017e-08 - accuracy: 1.0000 - val_loss: 0.1816 - val_accuracy: 0.9321\n",
            "Epoch 20/30\n",
            "33/33 [==============================] - 0s 6ms/step - loss: 8.1414e-08 - accuracy: 1.0000 - val_loss: 0.1638 - val_accuracy: 0.9439\n",
            "Epoch 21/30\n",
            "33/33 [==============================] - 0s 7ms/step - loss: 2.3108e-08 - accuracy: 1.0000 - val_loss: 0.1542 - val_accuracy: 0.9465\n",
            "Epoch 22/30\n",
            "33/33 [==============================] - 0s 5ms/step - loss: 4.3877e-08 - accuracy: 1.0000 - val_loss: 0.1536 - val_accuracy: 0.9465\n",
            "Epoch 23/30\n",
            "33/33 [==============================] - 0s 7ms/step - loss: 1.4124e-08 - accuracy: 1.0000 - val_loss: 0.1516 - val_accuracy: 0.9452\n",
            "Epoch 24/30\n",
            "33/33 [==============================] - 0s 5ms/step - loss: 1.9692e-08 - accuracy: 1.0000 - val_loss: 0.1558 - val_accuracy: 0.9465\n",
            "Epoch 25/30\n",
            "33/33 [==============================] - 0s 6ms/step - loss: 2.8698e-08 - accuracy: 1.0000 - val_loss: 0.1437 - val_accuracy: 0.9465\n",
            "Epoch 26/30\n",
            "33/33 [==============================] - 0s 6ms/step - loss: 1.7792e-08 - accuracy: 1.0000 - val_loss: 0.1564 - val_accuracy: 0.9452\n",
            "Epoch 27/30\n",
            "33/33 [==============================] - 0s 6ms/step - loss: 5.7299e-08 - accuracy: 1.0000 - val_loss: 0.1250 - val_accuracy: 0.9465\n",
            "Epoch 28/30\n",
            "33/33 [==============================] - 0s 6ms/step - loss: 5.0389e-09 - accuracy: 1.0000 - val_loss: 0.1306 - val_accuracy: 0.9465\n",
            "Epoch 29/30\n",
            "33/33 [==============================] - 0s 7ms/step - loss: 6.3750e-08 - accuracy: 1.0000 - val_loss: 0.1136 - val_accuracy: 0.9504\n",
            "Epoch 30/30\n",
            "33/33 [==============================] - 0s 6ms/step - loss: 8.6677e-08 - accuracy: 1.0000 - val_loss: 0.0719 - val_accuracy: 0.9700\n"
          ],
          "name": "stdout"
        }
      ]
    },
    {
      "cell_type": "markdown",
      "metadata": {
        "id": "KqQYUcq8Z3hI"
      },
      "source": [
        "### График \n",
        "\n",
        "\n",
        "\n",
        "\n",
        "\n",
        "\n"
      ]
    },
    {
      "cell_type": "code",
      "metadata": {
        "colab": {
          "base_uri": "https://localhost:8080/",
          "height": 651
        },
        "id": "asFUa8jjEPFg",
        "outputId": "befaf30e-1cbb-4bb0-9299-f14d60faa4a3"
      },
      "source": [
        "chart(history_Bow)"
      ],
      "execution_count": null,
      "outputs": [
        {
          "output_type": "display_data",
          "data": {
            "image/png": "[encoded data removed]",
            "text/plain": [
              "<Figure size 720x360 with 1 Axes>"
            ]
          },
          "metadata": {
            "tags": [],
            "needs_background": "light"
          }
        },
        {
          "output_type": "display_data",
          "data": {
            "image/png": "[encoded data removed]",
            "text/plain": [
              "<Figure size 720x360 with 1 Axes>"
            ]
          },
          "metadata": {
            "tags": [],
            "needs_background": "light"
          }
        }
      ]
    },
    {
      "cell_type": "markdown",
      "metadata": {
        "id": "tkXqgtZIG-sj"
      },
      "source": [
        "### Средний процент и таблица"
      ]
    },
    {
      "cell_type": "code",
      "metadata": {
        "colab": {
          "base_uri": "https://localhost:8080/"
        },
        "id": "YoByhd8LpMPa",
        "outputId": "c6c3f0fd-07e8-47a3-afeb-12db4a553929"
      },
      "source": [
        "# Посмотрим на результат на тестовой выборке\n",
        "val_model_Bow, average_model_Bow = recognizeMultiClass(model_Bow, xTest6ClassesBow, \"model_Bow\")"
      ],
      "execution_count": null,
      "outputs": [
        {
          "output_type": "stream",
          "text": [
            "Нейронная сеть:  model_Bow\n",
            "\n",
            "Юля  распознано  98 % сеть считает, что это  Юля ,  распознано ВЕРНО!\n",
            "Елена  распознано  94 % сеть считает, что это  Елена ,  распознано ВЕРНО!\n",
            "\n",
            "Средний процент распознавания  96 %\n"
          ],
          "name": "stdout"
        }
      ]
    },
    {
      "cell_type": "code",
      "metadata": {
        "id": "Suy8YScppMPe"
      },
      "source": [
        "# C помощью функции получаем значения на последней эпохе\n",
        "result_Bow = table(history_Bow)    \n"
      ],
      "execution_count": null,
      "outputs": []
    },
    {
      "cell_type": "code",
      "metadata": {
        "colab": {
          "base_uri": "https://localhost:8080/"
        },
        "id": "2qcMnWfFM46d",
        "outputId": "9d117c07-1e09-418e-e71a-dd323fa6ab45"
      },
      "source": [
        "val_model_Bow"
      ],
      "execution_count": null,
      "outputs": [
        {
          "output_type": "execute_result",
          "data": {
            "text/plain": [
              "[0.9899244332493703, 0.948509485094851]"
            ]
          },
          "metadata": {
            "tags": []
          },
          "execution_count": 48
        }
      ]
    },
    {
      "cell_type": "code",
      "metadata": {
        "id": "UWupNxUK3LZ2"
      },
      "source": [
        "# Заносим результат в таблицу\n",
        "df.loc['Bow'] = [round(val_model_Bow[0]*100, 2), round(val_model_Bow[1]*100, 2), round(min(result_Bow[0]),4), round(max(result_Bow[1]*100), 2), round(min(result_Bow[2]),2), round(max(result_Bow[3]*100),2), average_model_Bow]"
      ],
      "execution_count": null,
      "outputs": []
    },
    {
      "cell_type": "code",
      "metadata": {
        "colab": {
          "base_uri": "https://localhost:8080/",
          "height": 80
        },
        "id": "QSLct2KfydXw",
        "outputId": "5ae5dc5a-2548-4bb3-c9f3-8d6740dff371"
      },
      "source": [
        "df"
      ],
      "execution_count": null,
      "outputs": [
        {
          "output_type": "execute_result",
          "data": {
            "text/html": [
              "<div>\n",
              "<style scoped>\n",
              "    .dataframe tbody tr th:only-of-type {\n",
              "        vertical-align: middle;\n",
              "    }\n",
              "\n",
              "    .dataframe tbody tr th {\n",
              "        vertical-align: top;\n",
              "    }\n",
              "\n",
              "    .dataframe thead th {\n",
              "        text-align: right;\n",
              "    }\n",
              "</style>\n",
              "<table border=\"1\" class=\"dataframe\">\n",
              "  <thead>\n",
              "    <tr style=\"text-align: right;\">\n",
              "      <th></th>\n",
              "      <th>Юля</th>\n",
              "      <th>Елена</th>\n",
              "      <th>learn_loss(min)</th>\n",
              "      <th>learn_accuracy(max)</th>\n",
              "      <th>val_loss(min)</th>\n",
              "      <th>val_accuracy(max)</th>\n",
              "      <th>Средний процент распознавания на проверочной выборке</th>\n",
              "    </tr>\n",
              "  </thead>\n",
              "  <tbody>\n",
              "    <tr>\n",
              "      <th>Bow</th>\n",
              "      <td>98.99</td>\n",
              "      <td>94.85</td>\n",
              "      <td>0.0</td>\n",
              "      <td>100.0</td>\n",
              "      <td>0.07</td>\n",
              "      <td>97.0</td>\n",
              "      <td>96.0</td>\n",
              "    </tr>\n",
              "  </tbody>\n",
              "</table>\n",
              "</div>"
            ],
            "text/plain": [
              "       Юля  ...  Средний процент распознавания на проверочной выборке\n",
              "Bow  98.99  ...                                               96.0   \n",
              "\n",
              "[1 rows x 7 columns]"
            ]
          },
          "metadata": {
            "tags": []
          },
          "execution_count": 53
        }
      ]
    },
    {
      "cell_type": "markdown",
      "metadata": {
        "id": "q5k6Lg4A4TdB"
      },
      "source": [
        "## 2. Embedding + LSTM сеть"
      ]
    },
    {
      "cell_type": "code",
      "metadata": {
        "id": "zisfIgsFkIKD"
      },
      "source": [
        "model_LSTM = Sequential()\n",
        "\n",
        "model_LSTM.add(Embedding(maxWordsCount, 10, input_length=xLen))\n",
        "\n",
        "model_LSTM.add(SpatialDropout1D(0.4))\n",
        "\n",
        "model_LSTM.add(BatchNormalization()) \n",
        "\n",
        "model_LSTM.add(LSTM(4, return_sequences=True)) \n",
        "model_LSTM.add(Dropout(0.5)) \n",
        "model_LSTM.add(BatchNormalization()) \n",
        "\n",
        "model_LSTM.add(Dense(100, activation=\"relu\")) \n",
        "model_LSTM.add(Dropout(0.5)) \n",
        "model_LSTM.add(BatchNormalization()) \n",
        "\n",
        "model_LSTM.add(Flatten()) \n",
        "model_LSTM.add(Dense(2, activation='softmax'))"
      ],
      "execution_count": null,
      "outputs": []
    },
    {
      "cell_type": "code",
      "metadata": {
        "id": "me8XdjGBnJnT"
      },
      "source": [
        "model_LSTM.compile(optimizer='rmsprop', loss='binary_crossentropy', metrics=['accuracy'])"
      ],
      "execution_count": null,
      "outputs": []
    },
    {
      "cell_type": "markdown",
      "metadata": {
        "id": "efVo0aviZxZ4"
      },
      "source": [
        "### Обучение"
      ]
    },
    {
      "cell_type": "code",
      "metadata": {
        "colab": {
          "base_uri": "https://localhost:8080/"
        },
        "id": "bvo2Gn6I4lrq",
        "outputId": "3c66dfb6-98f9-4304-f879-d6dc7ed972b1"
      },
      "source": [
        "history_model_LSTM = model_LSTM.fit(xTrain, yTrain, epochs=30, batch_size=200, validation_data=(xTest, yTest))"
      ],
      "execution_count": null,
      "outputs": [
        {
          "output_type": "stream",
          "text": [
            "Epoch 1/30\n",
            "9/9 [==============================] - 3s 77ms/step - loss: 0.0132 - accuracy: 0.9964 - val_loss: 2.1104 - val_accuracy: 0.6854\n",
            "Epoch 2/30\n",
            "9/9 [==============================] - 0s 25ms/step - loss: 0.0064 - accuracy: 0.9988 - val_loss: 1.0612 - val_accuracy: 0.7441\n",
            "Epoch 3/30\n",
            "9/9 [==============================] - 0s 23ms/step - loss: 0.0134 - accuracy: 0.9970 - val_loss: 0.6046 - val_accuracy: 0.8316\n",
            "Epoch 4/30\n",
            "9/9 [==============================] - 0s 27ms/step - loss: 3.8911e-04 - accuracy: 1.0000 - val_loss: 0.6225 - val_accuracy: 0.8277\n",
            "Epoch 5/30\n",
            "9/9 [==============================] - 0s 22ms/step - loss: 0.0030 - accuracy: 0.9988 - val_loss: 0.2445 - val_accuracy: 0.9308\n",
            "Epoch 6/30\n",
            "9/9 [==============================] - 0s 21ms/step - loss: 0.0126 - accuracy: 0.9970 - val_loss: 0.1665 - val_accuracy: 0.9543\n",
            "Epoch 7/30\n",
            "9/9 [==============================] - 0s 22ms/step - loss: 0.0064 - accuracy: 0.9976 - val_loss: 0.1628 - val_accuracy: 0.9530\n",
            "Epoch 8/30\n",
            "9/9 [==============================] - 0s 23ms/step - loss: 0.0052 - accuracy: 0.9982 - val_loss: 0.1414 - val_accuracy: 0.9543\n",
            "Epoch 9/30\n",
            "9/9 [==============================] - 0s 23ms/step - loss: 0.0051 - accuracy: 0.9982 - val_loss: 0.2119 - val_accuracy: 0.9243\n",
            "Epoch 10/30\n",
            "9/9 [==============================] - 0s 22ms/step - loss: 0.0054 - accuracy: 0.9982 - val_loss: 0.1851 - val_accuracy: 0.9334\n",
            "Epoch 11/30\n",
            "9/9 [==============================] - 0s 23ms/step - loss: 0.0071 - accuracy: 0.9988 - val_loss: 0.2031 - val_accuracy: 0.9295\n",
            "Epoch 12/30\n",
            "9/9 [==============================] - 0s 22ms/step - loss: 0.0093 - accuracy: 0.9970 - val_loss: 0.2195 - val_accuracy: 0.9282\n",
            "Epoch 13/30\n",
            "9/9 [==============================] - 0s 23ms/step - loss: 0.0121 - accuracy: 0.9982 - val_loss: 0.1466 - val_accuracy: 0.9504\n",
            "Epoch 14/30\n",
            "9/9 [==============================] - 0s 27ms/step - loss: 0.0039 - accuracy: 0.9976 - val_loss: 0.1550 - val_accuracy: 0.9517\n",
            "Epoch 15/30\n",
            "9/9 [==============================] - 0s 22ms/step - loss: 0.0039 - accuracy: 0.9994 - val_loss: 0.2269 - val_accuracy: 0.9282\n",
            "Epoch 16/30\n",
            "9/9 [==============================] - 0s 22ms/step - loss: 0.0016 - accuracy: 0.9994 - val_loss: 0.1686 - val_accuracy: 0.9517\n",
            "Epoch 17/30\n",
            "9/9 [==============================] - 0s 22ms/step - loss: 0.0243 - accuracy: 0.9970 - val_loss: 0.2256 - val_accuracy: 0.9295\n",
            "Epoch 18/30\n",
            "9/9 [==============================] - 0s 22ms/step - loss: 0.0075 - accuracy: 0.9988 - val_loss: 0.1536 - val_accuracy: 0.9543\n",
            "Epoch 19/30\n",
            "9/9 [==============================] - 0s 24ms/step - loss: 0.0083 - accuracy: 0.9982 - val_loss: 0.1566 - val_accuracy: 0.9530\n",
            "Epoch 20/30\n",
            "9/9 [==============================] - 0s 22ms/step - loss: 0.0158 - accuracy: 0.9951 - val_loss: 0.1732 - val_accuracy: 0.9478\n",
            "Epoch 21/30\n",
            "9/9 [==============================] - 0s 24ms/step - loss: 0.0020 - accuracy: 0.9994 - val_loss: 0.1944 - val_accuracy: 0.9465\n",
            "Epoch 22/30\n",
            "9/9 [==============================] - 0s 22ms/step - loss: 0.0137 - accuracy: 0.9958 - val_loss: 0.4066 - val_accuracy: 0.8930\n",
            "Epoch 23/30\n",
            "9/9 [==============================] - 0s 22ms/step - loss: 0.0020 - accuracy: 0.9988 - val_loss: 0.3489 - val_accuracy: 0.9099\n",
            "Epoch 24/30\n",
            "9/9 [==============================] - 0s 23ms/step - loss: 6.5708e-04 - accuracy: 1.0000 - val_loss: 0.1644 - val_accuracy: 0.9530\n",
            "Epoch 25/30\n",
            "9/9 [==============================] - 0s 22ms/step - loss: 0.0066 - accuracy: 0.9988 - val_loss: 0.3486 - val_accuracy: 0.9086\n",
            "Epoch 26/30\n",
            "9/9 [==============================] - 0s 23ms/step - loss: 0.0160 - accuracy: 0.9970 - val_loss: 0.3408 - val_accuracy: 0.9164\n",
            "Epoch 27/30\n",
            "9/9 [==============================] - 0s 23ms/step - loss: 0.0081 - accuracy: 0.9970 - val_loss: 0.1928 - val_accuracy: 0.9491\n",
            "Epoch 28/30\n",
            "9/9 [==============================] - 0s 22ms/step - loss: 0.0037 - accuracy: 0.9994 - val_loss: 0.1737 - val_accuracy: 0.9491\n",
            "Epoch 29/30\n",
            "9/9 [==============================] - 0s 23ms/step - loss: 6.9615e-04 - accuracy: 1.0000 - val_loss: 0.1854 - val_accuracy: 0.9569\n",
            "Epoch 30/30\n",
            "9/9 [==============================] - 0s 22ms/step - loss: 0.0074 - accuracy: 0.9970 - val_loss: 0.2162 - val_accuracy: 0.9413\n"
          ],
          "name": "stdout"
        }
      ]
    },
    {
      "cell_type": "markdown",
      "metadata": {
        "id": "pfnbx24KVNZq"
      },
      "source": [
        "### График \n",
        "\n",
        "\n",
        "\n",
        "\n",
        "\n",
        "\n"
      ]
    },
    {
      "cell_type": "code",
      "metadata": {
        "colab": {
          "base_uri": "https://localhost:8080/",
          "height": 651
        },
        "id": "EjOga_JpVNZr",
        "outputId": "bc08df1d-8af9-41c2-8735-33462fed110b"
      },
      "source": [
        "chart(history_model_LSTM)"
      ],
      "execution_count": null,
      "outputs": [
        {
          "output_type": "display_data",
          "data": {
            "image/png": "[encoded data removed]",
            "text/plain": [
              "<Figure size 720x360 with 1 Axes>"
            ]
          },
          "metadata": {
            "tags": [],
            "needs_background": "light"
          }
        },
        {
          "output_type": "display_data",
          "data": {
            "image/png": "[encoded data removed]",
            "text/plain": [
              "<Figure size 720x360 with 1 Axes>"
            ]
          },
          "metadata": {
            "tags": [],
            "needs_background": "light"
          }
        }
      ]
    },
    {
      "cell_type": "markdown",
      "metadata": {
        "id": "L-sK5MyRVNZt"
      },
      "source": [
        "### Средний процент и таблица"
      ]
    },
    {
      "cell_type": "code",
      "metadata": {
        "colab": {
          "base_uri": "https://localhost:8080/"
        },
        "id": "zRqINTyHVNZt",
        "outputId": "d4d996b6-d8f3-4997-a861-16947e060d43"
      },
      "source": [
        "# Посмотрим на результат на тестовой выборке\n",
        "val_model_LSTM, average_model_LSTM = recognizeMultiClass(model_LSTM, xTest6Classes, \"model_LSTM\")"
      ],
      "execution_count": null,
      "outputs": [
        {
          "output_type": "stream",
          "text": [
            "Нейронная сеть:  model_LSTM\n",
            "\n",
            "Юля  распознано  96 % сеть считает, что это  Юля ,  распознано ВЕРНО!\n",
            "Елена  распознано  91 % сеть считает, что это  Елена ,  распознано ВЕРНО!\n",
            "\n",
            "Средний процент распознавания  94 %\n"
          ],
          "name": "stdout"
        }
      ]
    },
    {
      "cell_type": "code",
      "metadata": {
        "id": "Rvhn5iMtVNZu"
      },
      "source": [
        "# C помощью функции получаем значения на последней эпохе\n",
        "result_LSTM = table(history_model_LSTM)    \n"
      ],
      "execution_count": null,
      "outputs": []
    },
    {
      "cell_type": "code",
      "metadata": {
        "id": "D-yyO23kVtDz"
      },
      "source": [
        "# Заносим результат в таблицу\n",
        "df.loc['LSTM'] = [round(val_model_LSTM[0]*100, 2), round(val_model_LSTM[1]*100, 2), round(min(result_LSTM[0]),4), round(max(result_LSTM[1]*100), 2), round(min(result_LSTM[2]),2), round(max(result_LSTM[3]*100),2), average_model_LSTM]"
      ],
      "execution_count": null,
      "outputs": []
    },
    {
      "cell_type": "code",
      "metadata": {
        "colab": {
          "base_uri": "https://localhost:8080/",
          "height": 111
        },
        "id": "TbBfZHcOVNZ1",
        "outputId": "b14f98d6-3906-4543-a3bb-9dc48f4b9c9f"
      },
      "source": [
        "df"
      ],
      "execution_count": null,
      "outputs": [
        {
          "output_type": "execute_result",
          "data": {
            "text/html": [
              "<div>\n",
              "<style scoped>\n",
              "    .dataframe tbody tr th:only-of-type {\n",
              "        vertical-align: middle;\n",
              "    }\n",
              "\n",
              "    .dataframe tbody tr th {\n",
              "        vertical-align: top;\n",
              "    }\n",
              "\n",
              "    .dataframe thead th {\n",
              "        text-align: right;\n",
              "    }\n",
              "</style>\n",
              "<table border=\"1\" class=\"dataframe\">\n",
              "  <thead>\n",
              "    <tr style=\"text-align: right;\">\n",
              "      <th></th>\n",
              "      <th>Юля</th>\n",
              "      <th>Елена</th>\n",
              "      <th>learn_loss(min)</th>\n",
              "      <th>learn_accuracy(max)</th>\n",
              "      <th>val_loss(min)</th>\n",
              "      <th>val_accuracy(max)</th>\n",
              "      <th>Средний процент распознавания на проверочной выборке</th>\n",
              "    </tr>\n",
              "  </thead>\n",
              "  <tbody>\n",
              "    <tr>\n",
              "      <th>Bow</th>\n",
              "      <td>98.99</td>\n",
              "      <td>94.85</td>\n",
              "      <td>0.0000</td>\n",
              "      <td>100.0</td>\n",
              "      <td>0.07</td>\n",
              "      <td>97.00</td>\n",
              "      <td>96.0</td>\n",
              "    </tr>\n",
              "    <tr>\n",
              "      <th>LSTM</th>\n",
              "      <td>96.73</td>\n",
              "      <td>91.33</td>\n",
              "      <td>0.0004</td>\n",
              "      <td>100.0</td>\n",
              "      <td>0.14</td>\n",
              "      <td>95.69</td>\n",
              "      <td>94.0</td>\n",
              "    </tr>\n",
              "  </tbody>\n",
              "</table>\n",
              "</div>"
            ],
            "text/plain": [
              "        Юля  ...  Средний процент распознавания на проверочной выборке\n",
              "Bow   98.99  ...                                               96.0   \n",
              "LSTM  96.73  ...                                               94.0   \n",
              "\n",
              "[2 rows x 7 columns]"
            ]
          },
          "metadata": {
            "tags": []
          },
          "execution_count": 72
        }
      ]
    },
    {
      "cell_type": "markdown",
      "metadata": {
        "id": "z29zQmfQRAyw"
      },
      "source": [
        "## 3.Embedding + Conv1D сеть"
      ]
    },
    {
      "cell_type": "code",
      "metadata": {
        "id": "MlntD2yQmIws"
      },
      "source": [
        "model_Conv_1D = Sequential() \n",
        "\n",
        "model_Conv_1D.add(Embedding(maxWordsCount, 10, input_length=xLen))\n",
        "\n",
        "model_Conv_1D.add(SpatialDropout1D(0.2)) \n",
        "model_Conv_1D.add(BatchNormalization())  \n",
        "model_Conv_1D.add(Conv1D(20, 5, activation=\"relu\", padding='same'))  \n",
        "model_Conv_1D.add(Conv1D(20, 5, activation=\"relu\")) \n",
        "model_Conv_1D.add(MaxPooling1D(2))\n",
        "model_Conv_1D.add(Dropout(0.2)) \n",
        "model_Conv_1D.add(BatchNormalization()) \n",
        "model_Conv_1D.add(Flatten()) \n",
        "model_Conv_1D.add(Dense(2, activation='softmax')) "
      ],
      "execution_count": null,
      "outputs": []
    },
    {
      "cell_type": "code",
      "metadata": {
        "id": "NaOanyi6n7yg"
      },
      "source": [
        "model_Conv_1D.compile(optimizer='rmsprop', loss='binary_crossentropy', metrics=['accuracy'])"
      ],
      "execution_count": null,
      "outputs": []
    },
    {
      "cell_type": "markdown",
      "metadata": {
        "id": "_WT8Qh2cHfeO"
      },
      "source": [
        "### Обучение"
      ]
    },
    {
      "cell_type": "code",
      "metadata": {
        "colab": {
          "base_uri": "https://localhost:8080/"
        },
        "id": "COeOWBZZRfSs",
        "outputId": "050ca7a7-4cfe-4363-9141-5db259c2935c"
      },
      "source": [
        "history_model_Conv_1D = model_Conv_1D.fit(xTrain, yTrain, epochs=100, batch_size=200, validation_data=(xTest, yTest))"
      ],
      "execution_count": null,
      "outputs": [
        {
          "output_type": "stream",
          "text": [
            "Epoch 1/100\n",
            "9/9 [==============================] - 28s 90ms/step - loss: 0.8286 - accuracy: 0.5506 - val_loss: 0.6941 - val_accuracy: 0.4817\n",
            "Epoch 2/100\n",
            "9/9 [==============================] - 0s 12ms/step - loss: 0.4655 - accuracy: 0.8266 - val_loss: 0.7011 - val_accuracy: 0.4817\n",
            "Epoch 3/100\n",
            "9/9 [==============================] - 0s 12ms/step - loss: 0.1887 - accuracy: 0.9654 - val_loss: 0.7038 - val_accuracy: 0.4817\n",
            "Epoch 4/100\n",
            "9/9 [==============================] - 0s 11ms/step - loss: 0.0571 - accuracy: 0.9964 - val_loss: 0.7093 - val_accuracy: 0.4817\n",
            "Epoch 5/100\n",
            "9/9 [==============================] - 0s 11ms/step - loss: 0.0227 - accuracy: 1.0000 - val_loss: 0.7354 - val_accuracy: 0.4817\n",
            "Epoch 6/100\n",
            "9/9 [==============================] - 0s 11ms/step - loss: 0.0127 - accuracy: 0.9994 - val_loss: 0.7505 - val_accuracy: 0.4817\n",
            "Epoch 7/100\n",
            "9/9 [==============================] - 0s 11ms/step - loss: 0.0063 - accuracy: 0.9994 - val_loss: 0.7473 - val_accuracy: 0.4817\n",
            "Epoch 8/100\n",
            "9/9 [==============================] - 0s 11ms/step - loss: 0.0037 - accuracy: 1.0000 - val_loss: 0.8523 - val_accuracy: 0.4817\n",
            "Epoch 9/100\n",
            "9/9 [==============================] - 0s 10ms/step - loss: 0.0027 - accuracy: 1.0000 - val_loss: 0.8340 - val_accuracy: 0.4817\n",
            "Epoch 10/100\n",
            "9/9 [==============================] - 0s 11ms/step - loss: 0.0017 - accuracy: 1.0000 - val_loss: 0.8541 - val_accuracy: 0.4817\n",
            "Epoch 11/100\n",
            "9/9 [==============================] - 0s 11ms/step - loss: 9.6522e-04 - accuracy: 1.0000 - val_loss: 0.9837 - val_accuracy: 0.4817\n",
            "Epoch 12/100\n",
            "9/9 [==============================] - 0s 11ms/step - loss: 6.2718e-04 - accuracy: 1.0000 - val_loss: 0.9858 - val_accuracy: 0.4817\n",
            "Epoch 13/100\n",
            "9/9 [==============================] - 0s 11ms/step - loss: 5.0263e-04 - accuracy: 1.0000 - val_loss: 1.0535 - val_accuracy: 0.4817\n",
            "Epoch 14/100\n",
            "9/9 [==============================] - 0s 10ms/step - loss: 4.8068e-04 - accuracy: 1.0000 - val_loss: 1.3960 - val_accuracy: 0.4817\n",
            "Epoch 15/100\n",
            "9/9 [==============================] - 0s 12ms/step - loss: 8.8729e-04 - accuracy: 0.9994 - val_loss: 1.1193 - val_accuracy: 0.4817\n",
            "Epoch 16/100\n",
            "9/9 [==============================] - 0s 11ms/step - loss: 6.1010e-04 - accuracy: 1.0000 - val_loss: 1.2086 - val_accuracy: 0.4817\n",
            "Epoch 17/100\n",
            "9/9 [==============================] - 0s 11ms/step - loss: 4.1296e-04 - accuracy: 1.0000 - val_loss: 1.5533 - val_accuracy: 0.4817\n",
            "Epoch 18/100\n",
            "9/9 [==============================] - 0s 11ms/step - loss: 3.7562e-04 - accuracy: 1.0000 - val_loss: 1.2117 - val_accuracy: 0.4817\n",
            "Epoch 19/100\n",
            "9/9 [==============================] - 0s 10ms/step - loss: 2.5021e-04 - accuracy: 1.0000 - val_loss: 1.7067 - val_accuracy: 0.4817\n",
            "Epoch 20/100\n",
            "9/9 [==============================] - 0s 11ms/step - loss: 1.5520e-04 - accuracy: 1.0000 - val_loss: 1.4738 - val_accuracy: 0.4817\n",
            "Epoch 21/100\n",
            "9/9 [==============================] - 0s 11ms/step - loss: 2.6741e-04 - accuracy: 1.0000 - val_loss: 1.9400 - val_accuracy: 0.4817\n",
            "Epoch 22/100\n",
            "9/9 [==============================] - 0s 12ms/step - loss: 2.1263e-04 - accuracy: 1.0000 - val_loss: 1.9854 - val_accuracy: 0.4817\n",
            "Epoch 23/100\n",
            "9/9 [==============================] - 0s 12ms/step - loss: 1.9498e-04 - accuracy: 1.0000 - val_loss: 2.0147 - val_accuracy: 0.4817\n",
            "Epoch 24/100\n",
            "9/9 [==============================] - 0s 12ms/step - loss: 1.3749e-04 - accuracy: 1.0000 - val_loss: 2.4326 - val_accuracy: 0.4817\n",
            "Epoch 25/100\n",
            "9/9 [==============================] - 0s 12ms/step - loss: 9.8123e-04 - accuracy: 1.0000 - val_loss: 2.2423 - val_accuracy: 0.4817\n",
            "Epoch 26/100\n",
            "9/9 [==============================] - 0s 11ms/step - loss: 2.9717e-04 - accuracy: 1.0000 - val_loss: 2.3010 - val_accuracy: 0.4817\n",
            "Epoch 27/100\n",
            "9/9 [==============================] - 0s 12ms/step - loss: 5.5569e-05 - accuracy: 1.0000 - val_loss: 2.2855 - val_accuracy: 0.4817\n",
            "Epoch 28/100\n",
            "9/9 [==============================] - 0s 11ms/step - loss: 4.6156e-05 - accuracy: 1.0000 - val_loss: 2.3363 - val_accuracy: 0.4817\n",
            "Epoch 29/100\n",
            "9/9 [==============================] - 0s 12ms/step - loss: 1.8975e-04 - accuracy: 1.0000 - val_loss: 2.2970 - val_accuracy: 0.4817\n",
            "Epoch 30/100\n",
            "9/9 [==============================] - 0s 13ms/step - loss: 2.1086e-04 - accuracy: 1.0000 - val_loss: 2.7363 - val_accuracy: 0.4817\n",
            "Epoch 31/100\n",
            "9/9 [==============================] - 0s 12ms/step - loss: 9.5859e-05 - accuracy: 1.0000 - val_loss: 2.5924 - val_accuracy: 0.4817\n",
            "Epoch 32/100\n",
            "9/9 [==============================] - 0s 12ms/step - loss: 9.9035e-05 - accuracy: 1.0000 - val_loss: 2.8814 - val_accuracy: 0.4817\n",
            "Epoch 33/100\n",
            "9/9 [==============================] - 0s 11ms/step - loss: 0.0010 - accuracy: 0.9994 - val_loss: 3.1424 - val_accuracy: 0.4817\n",
            "Epoch 34/100\n",
            "9/9 [==============================] - 0s 12ms/step - loss: 6.9058e-04 - accuracy: 1.0000 - val_loss: 2.2670 - val_accuracy: 0.5039\n",
            "Epoch 35/100\n",
            "9/9 [==============================] - 0s 11ms/step - loss: 2.5299e-04 - accuracy: 1.0000 - val_loss: 2.4645 - val_accuracy: 0.5039\n",
            "Epoch 36/100\n",
            "9/9 [==============================] - 0s 12ms/step - loss: 1.1270e-04 - accuracy: 1.0000 - val_loss: 2.5151 - val_accuracy: 0.5052\n",
            "Epoch 37/100\n",
            "9/9 [==============================] - 0s 12ms/step - loss: 2.4766e-04 - accuracy: 1.0000 - val_loss: 2.9073 - val_accuracy: 0.4961\n",
            "Epoch 38/100\n",
            "9/9 [==============================] - 0s 11ms/step - loss: 4.6527e-04 - accuracy: 1.0000 - val_loss: 2.9805 - val_accuracy: 0.4961\n",
            "Epoch 39/100\n",
            "9/9 [==============================] - 0s 12ms/step - loss: 3.4095e-04 - accuracy: 1.0000 - val_loss: 3.0027 - val_accuracy: 0.5091\n",
            "Epoch 40/100\n",
            "9/9 [==============================] - 0s 12ms/step - loss: 1.9138e-04 - accuracy: 1.0000 - val_loss: 3.2911 - val_accuracy: 0.4974\n",
            "Epoch 41/100\n",
            "9/9 [==============================] - 0s 14ms/step - loss: 2.4010e-05 - accuracy: 1.0000 - val_loss: 3.2896 - val_accuracy: 0.5131\n",
            "Epoch 42/100\n",
            "9/9 [==============================] - 0s 11ms/step - loss: 1.0133e-05 - accuracy: 1.0000 - val_loss: 3.2983 - val_accuracy: 0.5235\n",
            "Epoch 43/100\n",
            "9/9 [==============================] - 0s 12ms/step - loss: 3.5843e-05 - accuracy: 1.0000 - val_loss: 3.2566 - val_accuracy: 0.5587\n",
            "Epoch 44/100\n",
            "9/9 [==============================] - 0s 12ms/step - loss: 8.8006e-04 - accuracy: 0.9994 - val_loss: 3.2423 - val_accuracy: 0.5222\n",
            "Epoch 45/100\n",
            "9/9 [==============================] - 0s 13ms/step - loss: 3.5242e-05 - accuracy: 1.0000 - val_loss: 3.2534 - val_accuracy: 0.5366\n",
            "Epoch 46/100\n",
            "9/9 [==============================] - 0s 12ms/step - loss: 5.4942e-05 - accuracy: 1.0000 - val_loss: 3.2358 - val_accuracy: 0.5601\n",
            "Epoch 47/100\n",
            "9/9 [==============================] - 0s 12ms/step - loss: 4.6599e-06 - accuracy: 1.0000 - val_loss: 3.2486 - val_accuracy: 0.5809\n",
            "Epoch 48/100\n",
            "9/9 [==============================] - 0s 12ms/step - loss: 4.2576e-06 - accuracy: 1.0000 - val_loss: 3.2734 - val_accuracy: 0.5927\n",
            "Epoch 49/100\n",
            "9/9 [==============================] - 0s 13ms/step - loss: 1.6590e-05 - accuracy: 1.0000 - val_loss: 3.2934 - val_accuracy: 0.5979\n",
            "Epoch 50/100\n",
            "9/9 [==============================] - 0s 12ms/step - loss: 5.5831e-05 - accuracy: 1.0000 - val_loss: 3.4799 - val_accuracy: 0.6057\n",
            "Epoch 51/100\n",
            "9/9 [==============================] - 0s 12ms/step - loss: 9.5717e-06 - accuracy: 1.0000 - val_loss: 3.5652 - val_accuracy: 0.6070\n",
            "Epoch 52/100\n",
            "9/9 [==============================] - 0s 12ms/step - loss: 1.9004e-04 - accuracy: 1.0000 - val_loss: 4.1650 - val_accuracy: 0.5392\n",
            "Epoch 53/100\n",
            "9/9 [==============================] - 0s 12ms/step - loss: 0.0022 - accuracy: 0.9994 - val_loss: 2.9814 - val_accuracy: 0.6201\n",
            "Epoch 54/100\n",
            "9/9 [==============================] - 0s 12ms/step - loss: 1.3678e-04 - accuracy: 1.0000 - val_loss: 3.4358 - val_accuracy: 0.6070\n",
            "Epoch 55/100\n",
            "9/9 [==============================] - 0s 12ms/step - loss: 2.5443e-04 - accuracy: 1.0000 - val_loss: 3.5611 - val_accuracy: 0.5979\n",
            "Epoch 56/100\n",
            "9/9 [==============================] - 0s 12ms/step - loss: 1.9045e-04 - accuracy: 1.0000 - val_loss: 3.5889 - val_accuracy: 0.5992\n",
            "Epoch 57/100\n",
            "9/9 [==============================] - 0s 12ms/step - loss: 7.3346e-05 - accuracy: 1.0000 - val_loss: 3.5942 - val_accuracy: 0.6070\n",
            "Epoch 58/100\n",
            "9/9 [==============================] - 0s 13ms/step - loss: 8.2668e-05 - accuracy: 1.0000 - val_loss: 3.3560 - val_accuracy: 0.6201\n",
            "Epoch 59/100\n",
            "9/9 [==============================] - 0s 14ms/step - loss: 0.0013 - accuracy: 0.9994 - val_loss: 4.5802 - val_accuracy: 0.5653\n",
            "Epoch 60/100\n",
            "9/9 [==============================] - 0s 12ms/step - loss: 8.2019e-05 - accuracy: 1.0000 - val_loss: 4.1635 - val_accuracy: 0.5992\n",
            "Epoch 61/100\n",
            "9/9 [==============================] - 0s 12ms/step - loss: 5.1156e-06 - accuracy: 1.0000 - val_loss: 4.0041 - val_accuracy: 0.6084\n",
            "Epoch 62/100\n",
            "9/9 [==============================] - 0s 12ms/step - loss: 1.0623e-05 - accuracy: 1.0000 - val_loss: 3.8764 - val_accuracy: 0.6123\n",
            "Epoch 63/100\n",
            "9/9 [==============================] - 0s 12ms/step - loss: 1.6844e-05 - accuracy: 1.0000 - val_loss: 4.3046 - val_accuracy: 0.6123\n",
            "Epoch 64/100\n",
            "9/9 [==============================] - 0s 13ms/step - loss: 2.5661e-05 - accuracy: 1.0000 - val_loss: 3.9652 - val_accuracy: 0.6162\n",
            "Epoch 65/100\n",
            "9/9 [==============================] - 0s 12ms/step - loss: 5.2059e-05 - accuracy: 1.0000 - val_loss: 3.4524 - val_accuracy: 0.6227\n",
            "Epoch 66/100\n",
            "9/9 [==============================] - 0s 12ms/step - loss: 1.0737e-05 - accuracy: 1.0000 - val_loss: 3.4607 - val_accuracy: 0.6227\n",
            "Epoch 67/100\n",
            "9/9 [==============================] - 0s 12ms/step - loss: 1.5385e-05 - accuracy: 1.0000 - val_loss: 3.1433 - val_accuracy: 0.6266\n",
            "Epoch 68/100\n",
            "9/9 [==============================] - 0s 13ms/step - loss: 0.0046 - accuracy: 0.9994 - val_loss: 1.5564 - val_accuracy: 0.6841\n",
            "Epoch 69/100\n",
            "9/9 [==============================] - 0s 13ms/step - loss: 5.4075e-04 - accuracy: 1.0000 - val_loss: 2.8227 - val_accuracy: 0.6266\n",
            "Epoch 70/100\n",
            "9/9 [==============================] - 0s 13ms/step - loss: 3.7807e-06 - accuracy: 1.0000 - val_loss: 2.7543 - val_accuracy: 0.6292\n",
            "Epoch 71/100\n",
            "9/9 [==============================] - 0s 13ms/step - loss: 5.2189e-05 - accuracy: 1.0000 - val_loss: 2.3941 - val_accuracy: 0.6397\n",
            "Epoch 72/100\n",
            "9/9 [==============================] - 0s 12ms/step - loss: 9.8743e-06 - accuracy: 1.0000 - val_loss: 2.2886 - val_accuracy: 0.6462\n",
            "Epoch 73/100\n",
            "9/9 [==============================] - 0s 12ms/step - loss: 3.0567e-06 - accuracy: 1.0000 - val_loss: 2.3045 - val_accuracy: 0.6462\n",
            "Epoch 74/100\n",
            "9/9 [==============================] - 0s 12ms/step - loss: 1.4662e-06 - accuracy: 1.0000 - val_loss: 2.3198 - val_accuracy: 0.6488\n",
            "Epoch 75/100\n",
            "9/9 [==============================] - 0s 12ms/step - loss: 1.0568e-05 - accuracy: 1.0000 - val_loss: 2.1021 - val_accuracy: 0.6593\n",
            "Epoch 76/100\n",
            "9/9 [==============================] - 0s 12ms/step - loss: 4.5829e-05 - accuracy: 1.0000 - val_loss: 0.9937 - val_accuracy: 0.7728\n",
            "Epoch 77/100\n",
            "9/9 [==============================] - 0s 13ms/step - loss: 0.0015 - accuracy: 0.9994 - val_loss: 1.7641 - val_accuracy: 0.6841\n",
            "Epoch 78/100\n",
            "9/9 [==============================] - 0s 13ms/step - loss: 6.3767e-05 - accuracy: 1.0000 - val_loss: 1.9607 - val_accuracy: 0.6749\n",
            "Epoch 79/100\n",
            "9/9 [==============================] - 0s 13ms/step - loss: 2.4548e-05 - accuracy: 1.0000 - val_loss: 1.9356 - val_accuracy: 0.6762\n",
            "Epoch 80/100\n",
            "9/9 [==============================] - 0s 12ms/step - loss: 8.9534e-06 - accuracy: 1.0000 - val_loss: 2.0158 - val_accuracy: 0.6749\n",
            "Epoch 81/100\n",
            "9/9 [==============================] - 0s 12ms/step - loss: 8.2955e-06 - accuracy: 1.0000 - val_loss: 2.1546 - val_accuracy: 0.6710\n",
            "Epoch 82/100\n",
            "9/9 [==============================] - 0s 14ms/step - loss: 4.1895e-05 - accuracy: 1.0000 - val_loss: 2.4132 - val_accuracy: 0.6580\n",
            "Epoch 83/100\n",
            "9/9 [==============================] - 0s 13ms/step - loss: 1.1498e-05 - accuracy: 1.0000 - val_loss: 2.5909 - val_accuracy: 0.6554\n",
            "Epoch 84/100\n",
            "9/9 [==============================] - 0s 13ms/step - loss: 1.1704e-05 - accuracy: 1.0000 - val_loss: 2.2654 - val_accuracy: 0.6658\n",
            "Epoch 85/100\n",
            "9/9 [==============================] - 0s 12ms/step - loss: 2.4797e-05 - accuracy: 1.0000 - val_loss: 4.0408 - val_accuracy: 0.6266\n",
            "Epoch 86/100\n",
            "9/9 [==============================] - 0s 13ms/step - loss: 1.1273e-04 - accuracy: 1.0000 - val_loss: 2.5644 - val_accuracy: 0.6527\n",
            "Epoch 87/100\n",
            "9/9 [==============================] - 0s 12ms/step - loss: 7.5817e-06 - accuracy: 1.0000 - val_loss: 2.1829 - val_accuracy: 0.6619\n",
            "Epoch 88/100\n",
            "9/9 [==============================] - 0s 12ms/step - loss: 1.9841e-05 - accuracy: 1.0000 - val_loss: 1.5407 - val_accuracy: 0.7167\n",
            "Epoch 89/100\n",
            "9/9 [==============================] - 0s 13ms/step - loss: 1.6314e-05 - accuracy: 1.0000 - val_loss: 1.8722 - val_accuracy: 0.6893\n",
            "Epoch 90/100\n",
            "9/9 [==============================] - 0s 14ms/step - loss: 1.5803e-05 - accuracy: 1.0000 - val_loss: 2.9162 - val_accuracy: 0.6462\n",
            "Epoch 91/100\n",
            "9/9 [==============================] - 0s 12ms/step - loss: 3.4844e-06 - accuracy: 1.0000 - val_loss: 2.5270 - val_accuracy: 0.6567\n",
            "Epoch 92/100\n",
            "9/9 [==============================] - 0s 13ms/step - loss: 1.7231e-06 - accuracy: 1.0000 - val_loss: 2.4990 - val_accuracy: 0.6593\n",
            "Epoch 93/100\n",
            "9/9 [==============================] - 0s 13ms/step - loss: 4.9509e-04 - accuracy: 0.9994 - val_loss: 3.2140 - val_accuracy: 0.6384\n",
            "Epoch 94/100\n",
            "9/9 [==============================] - 0s 14ms/step - loss: 8.2012e-05 - accuracy: 1.0000 - val_loss: 2.0394 - val_accuracy: 0.6775\n",
            "Epoch 95/100\n",
            "9/9 [==============================] - 0s 13ms/step - loss: 1.0694e-05 - accuracy: 1.0000 - val_loss: 2.0419 - val_accuracy: 0.6789\n",
            "Epoch 96/100\n",
            "9/9 [==============================] - 0s 12ms/step - loss: 2.3981e-06 - accuracy: 1.0000 - val_loss: 2.2270 - val_accuracy: 0.6671\n",
            "Epoch 97/100\n",
            "9/9 [==============================] - 0s 12ms/step - loss: 8.7610e-05 - accuracy: 1.0000 - val_loss: 3.2370 - val_accuracy: 0.6397\n",
            "Epoch 98/100\n",
            "9/9 [==============================] - 0s 13ms/step - loss: 5.3256e-06 - accuracy: 1.0000 - val_loss: 3.3032 - val_accuracy: 0.6397\n",
            "Epoch 99/100\n",
            "9/9 [==============================] - 0s 12ms/step - loss: 1.3999e-06 - accuracy: 1.0000 - val_loss: 3.3151 - val_accuracy: 0.6397\n",
            "Epoch 100/100\n",
            "9/9 [==============================] - 0s 12ms/step - loss: 2.1517e-06 - accuracy: 1.0000 - val_loss: 2.9935 - val_accuracy: 0.6514\n"
          ],
          "name": "stdout"
        }
      ]
    },
    {
      "cell_type": "markdown",
      "metadata": {
        "id": "ZWIk7bfrHfeQ"
      },
      "source": [
        "### График \n",
        "\n",
        "\n",
        "\n",
        "\n",
        "\n",
        "\n"
      ]
    },
    {
      "cell_type": "code",
      "metadata": {
        "colab": {
          "base_uri": "https://localhost:8080/",
          "height": 651
        },
        "id": "Z2S7I5uUEgHC",
        "outputId": "56e439ff-7034-4bb5-8d3b-2301be5d76db"
      },
      "source": [
        "chart(history_model_Conv_1D)"
      ],
      "execution_count": null,
      "outputs": [
        {
          "output_type": "display_data",
          "data": {
            "image/png": "[encoded data removed]",
            "text/plain": [
              "<Figure size 720x360 with 1 Axes>"
            ]
          },
          "metadata": {
            "tags": [],
            "needs_background": "light"
          }
        },
        {
          "output_type": "display_data",
          "data": {
            "image/png": "[encoded data removed]",
            "text/plain": [
              "<Figure size 720x360 with 1 Axes>"
            ]
          },
          "metadata": {
            "tags": [],
            "needs_background": "light"
          }
        }
      ]
    },
    {
      "cell_type": "markdown",
      "metadata": {
        "id": "gpi2ZD3PHfeR"
      },
      "source": [
        "### Средний процент и таблица"
      ]
    },
    {
      "cell_type": "code",
      "metadata": {
        "colab": {
          "base_uri": "https://localhost:8080/"
        },
        "id": "IuU8a_MnRfTw",
        "outputId": "e02b580d-5a4e-457d-a500-7924a6830398"
      },
      "source": [
        "# Посмотрим на результат на тестовой выборке\n",
        "val_model_Conv_1D, average_model_Conv_1D = recognizeMultiClass(model_Conv_1D, xTest6Classes, \"model_Conv_1D\")"
      ],
      "execution_count": null,
      "outputs": [
        {
          "output_type": "stream",
          "text": [
            "Нейронная сеть:  model_Conv_1D\n",
            "\n",
            "Юля  распознано  32 % сеть считает, что это  Елена ,  распознано НЕ ВЕРНО!\n",
            "Елена  распознано  100 % сеть считает, что это  Елена ,  распознано ВЕРНО!\n",
            "\n",
            "Средний процент распознавания  65 %\n"
          ],
          "name": "stdout"
        }
      ]
    },
    {
      "cell_type": "code",
      "metadata": {
        "id": "UkL9NgE4RfTz"
      },
      "source": [
        "# C помощью функции получаем значения на последней эпохе\n",
        "result_model_Conv_1D = table(history_model_Conv_1D)    "
      ],
      "execution_count": null,
      "outputs": []
    },
    {
      "cell_type": "code",
      "metadata": {
        "id": "m-CC50hmkSVL"
      },
      "source": [
        "# Заносим результат в таблицу\n",
        "df.loc['Conv_1D'] = [round(val_model_Conv_1D[0]*100, 2), round(val_model_Conv_1D[1]*100, 2), round(min(result_model_Conv_1D[0]),2), round(max(result_model_Conv_1D[1]*100), 2), round(min(result_model_Conv_1D[2]),2), round(max(result_model_Conv_1D[3]*100),2), average_model_Conv_1D]"
      ],
      "execution_count": null,
      "outputs": []
    },
    {
      "cell_type": "code",
      "metadata": {
        "colab": {
          "base_uri": "https://localhost:8080/",
          "height": 142
        },
        "id": "mlv-Fo2hUS1C",
        "outputId": "d52a7c0a-fe66-4e19-f6f5-524f82060566"
      },
      "source": [
        "df"
      ],
      "execution_count": null,
      "outputs": [
        {
          "output_type": "execute_result",
          "data": {
            "text/html": [
              "<div>\n",
              "<style scoped>\n",
              "    .dataframe tbody tr th:only-of-type {\n",
              "        vertical-align: middle;\n",
              "    }\n",
              "\n",
              "    .dataframe tbody tr th {\n",
              "        vertical-align: top;\n",
              "    }\n",
              "\n",
              "    .dataframe thead th {\n",
              "        text-align: right;\n",
              "    }\n",
              "</style>\n",
              "<table border=\"1\" class=\"dataframe\">\n",
              "  <thead>\n",
              "    <tr style=\"text-align: right;\">\n",
              "      <th></th>\n",
              "      <th>Юля</th>\n",
              "      <th>Елена</th>\n",
              "      <th>learn_loss(min)</th>\n",
              "      <th>learn_accuracy(max)</th>\n",
              "      <th>val_loss(min)</th>\n",
              "      <th>val_accuracy(max)</th>\n",
              "      <th>Средний процент распознавания на проверочной выборке</th>\n",
              "    </tr>\n",
              "  </thead>\n",
              "  <tbody>\n",
              "    <tr>\n",
              "      <th>Bow</th>\n",
              "      <td>98.99</td>\n",
              "      <td>94.85</td>\n",
              "      <td>0.0000</td>\n",
              "      <td>100.0</td>\n",
              "      <td>0.07</td>\n",
              "      <td>97.00</td>\n",
              "      <td>96.0</td>\n",
              "    </tr>\n",
              "    <tr>\n",
              "      <th>LSTM</th>\n",
              "      <td>96.73</td>\n",
              "      <td>91.33</td>\n",
              "      <td>0.0004</td>\n",
              "      <td>100.0</td>\n",
              "      <td>0.14</td>\n",
              "      <td>95.69</td>\n",
              "      <td>94.0</td>\n",
              "    </tr>\n",
              "    <tr>\n",
              "      <th>Conv_1D</th>\n",
              "      <td>32.75</td>\n",
              "      <td>100.00</td>\n",
              "      <td>0.0000</td>\n",
              "      <td>100.0</td>\n",
              "      <td>0.69</td>\n",
              "      <td>77.28</td>\n",
              "      <td>65.0</td>\n",
              "    </tr>\n",
              "  </tbody>\n",
              "</table>\n",
              "</div>"
            ],
            "text/plain": [
              "           Юля  ...  Средний процент распознавания на проверочной выборке\n",
              "Bow      98.99  ...                                               96.0   \n",
              "LSTM     96.73  ...                                               94.0   \n",
              "Conv_1D  32.75  ...                                               65.0   \n",
              "\n",
              "[3 rows x 7 columns]"
            ]
          },
          "metadata": {
            "tags": []
          },
          "execution_count": 81
        }
      ]
    },
    {
      "cell_type": "markdown",
      "metadata": {
        "id": "EioXoi9UqIwt"
      },
      "source": [
        "## 4.Сложная сеть LSTM + Conv1D "
      ]
    },
    {
      "cell_type": "code",
      "metadata": {
        "id": "i42i-OWsQIzH"
      },
      "source": [
        "model_LSTM_Conv1D = Sequential() \n",
        "\n",
        "model_LSTM_Conv1D.add(Embedding(maxWordsCount, 10, input_length=xLen))\n",
        "\n",
        "model_LSTM_Conv1D.add(SpatialDropout1D(0.3)) \n",
        "model_LSTM_Conv1D.add(Conv1D(20, 5, activation=\"relu\"))\n",
        "model_LSTM_Conv1D.add(MaxPooling1D(2))\n",
        "model_LSTM_Conv1D.add(Dropout(0.3)) \n",
        "model_LSTM_Conv1D.add(BatchNormalization())\n",
        "model_LSTM_Conv1D.add(LSTM(5, return_sequences=1)) \n",
        "model_LSTM_Conv1D.add(Dropout(0.3)) \n",
        "model_LSTM_Conv1D.add(BatchNormalization())\n",
        "model_LSTM_Conv1D.add(Flatten())\n",
        "model_LSTM_Conv1D.add(Dense(2, activation='softmax')) "
      ],
      "execution_count": null,
      "outputs": []
    },
    {
      "cell_type": "code",
      "metadata": {
        "id": "NsXMMONoqOr0"
      },
      "source": [
        "model_LSTM_Conv1D.compile(optimizer='rmsprop', loss='binary_crossentropy', metrics=['accuracy'])"
      ],
      "execution_count": null,
      "outputs": []
    },
    {
      "cell_type": "markdown",
      "metadata": {
        "id": "Wpf9SPubrK_h"
      },
      "source": [
        "### Обучение"
      ]
    },
    {
      "cell_type": "code",
      "metadata": {
        "colab": {
          "base_uri": "https://localhost:8080/"
        },
        "id": "fRRd7gmmrK_4",
        "outputId": "79acee62-17cf-4447-d370-279f4604ac7d"
      },
      "source": [
        "history_model_LSTM_Conv1D = model_LSTM_Conv1D.fit(xTrain, yTrain, epochs=100, batch_size=200, validation_data=(xTest, yTest))"
      ],
      "execution_count": null,
      "outputs": [
        {
          "output_type": "stream",
          "text": [
            "Epoch 1/100\n",
            "9/9 [==============================] - 3s 89ms/step - loss: 0.8506 - accuracy: 0.5215 - val_loss: 0.6915 - val_accuracy: 0.5183\n",
            "Epoch 2/100\n",
            "9/9 [==============================] - 0s 16ms/step - loss: 0.5732 - accuracy: 0.7514 - val_loss: 0.6857 - val_accuracy: 0.5849\n",
            "Epoch 3/100\n",
            "9/9 [==============================] - 0s 16ms/step - loss: 0.2202 - accuracy: 0.9478 - val_loss: 0.6758 - val_accuracy: 0.7311\n",
            "Epoch 4/100\n",
            "9/9 [==============================] - 0s 16ms/step - loss: 0.0748 - accuracy: 0.9897 - val_loss: 0.6665 - val_accuracy: 0.9151\n",
            "Epoch 5/100\n",
            "9/9 [==============================] - 0s 15ms/step - loss: 0.0322 - accuracy: 0.9970 - val_loss: 0.6579 - val_accuracy: 0.8133\n",
            "Epoch 6/100\n",
            "9/9 [==============================] - 0s 15ms/step - loss: 0.0165 - accuracy: 0.9988 - val_loss: 0.6479 - val_accuracy: 0.8982\n",
            "Epoch 7/100\n",
            "9/9 [==============================] - 0s 15ms/step - loss: 0.0113 - accuracy: 0.9976 - val_loss: 0.6388 - val_accuracy: 0.8198\n",
            "Epoch 8/100\n",
            "9/9 [==============================] - 0s 16ms/step - loss: 0.0047 - accuracy: 1.0000 - val_loss: 0.6275 - val_accuracy: 0.9151\n",
            "Epoch 9/100\n",
            "9/9 [==============================] - 0s 15ms/step - loss: 0.0068 - accuracy: 0.9988 - val_loss: 0.6155 - val_accuracy: 0.8838\n",
            "Epoch 10/100\n",
            "9/9 [==============================] - 0s 16ms/step - loss: 0.0055 - accuracy: 0.9982 - val_loss: 0.6021 - val_accuracy: 0.8329\n",
            "Epoch 11/100\n",
            "9/9 [==============================] - 0s 16ms/step - loss: 0.0025 - accuracy: 0.9994 - val_loss: 0.5925 - val_accuracy: 0.6906\n",
            "Epoch 12/100\n",
            "9/9 [==============================] - 0s 15ms/step - loss: 0.0022 - accuracy: 1.0000 - val_loss: 0.5924 - val_accuracy: 0.6227\n",
            "Epoch 13/100\n",
            "9/9 [==============================] - 0s 16ms/step - loss: 0.0034 - accuracy: 0.9994 - val_loss: 0.5740 - val_accuracy: 0.6305\n",
            "Epoch 14/100\n",
            "9/9 [==============================] - 0s 15ms/step - loss: 9.3731e-04 - accuracy: 1.0000 - val_loss: 0.5598 - val_accuracy: 0.6319\n",
            "Epoch 15/100\n",
            "9/9 [==============================] - 0s 15ms/step - loss: 0.0045 - accuracy: 0.9994 - val_loss: 0.5891 - val_accuracy: 0.5979\n",
            "Epoch 16/100\n",
            "9/9 [==============================] - 0s 16ms/step - loss: 4.9612e-04 - accuracy: 1.0000 - val_loss: 0.5672 - val_accuracy: 0.6136\n",
            "Epoch 17/100\n",
            "9/9 [==============================] - 0s 16ms/step - loss: 0.0014 - accuracy: 0.9994 - val_loss: 0.5411 - val_accuracy: 0.6279\n",
            "Epoch 18/100\n",
            "9/9 [==============================] - 0s 16ms/step - loss: 0.0045 - accuracy: 0.9982 - val_loss: 0.5515 - val_accuracy: 0.6214\n",
            "Epoch 19/100\n",
            "9/9 [==============================] - 0s 15ms/step - loss: 8.4013e-04 - accuracy: 1.0000 - val_loss: 0.5756 - val_accuracy: 0.5979\n",
            "Epoch 20/100\n",
            "9/9 [==============================] - 0s 16ms/step - loss: 2.9939e-04 - accuracy: 1.0000 - val_loss: 0.5669 - val_accuracy: 0.6005\n",
            "Epoch 21/100\n",
            "9/9 [==============================] - 0s 15ms/step - loss: 0.0025 - accuracy: 0.9988 - val_loss: 0.5832 - val_accuracy: 0.5992\n",
            "Epoch 22/100\n",
            "9/9 [==============================] - 0s 17ms/step - loss: 1.8949e-04 - accuracy: 1.0000 - val_loss: 0.6056 - val_accuracy: 0.6005\n",
            "Epoch 23/100\n",
            "9/9 [==============================] - 0s 15ms/step - loss: 1.1745e-04 - accuracy: 1.0000 - val_loss: 0.5884 - val_accuracy: 0.6136\n",
            "Epoch 24/100\n",
            "9/9 [==============================] - 0s 15ms/step - loss: 0.0028 - accuracy: 0.9994 - val_loss: 0.5676 - val_accuracy: 0.6214\n",
            "Epoch 25/100\n",
            "9/9 [==============================] - 0s 15ms/step - loss: 8.4281e-04 - accuracy: 1.0000 - val_loss: 0.5381 - val_accuracy: 0.6279\n",
            "Epoch 26/100\n",
            "9/9 [==============================] - 0s 15ms/step - loss: 0.0017 - accuracy: 0.9994 - val_loss: 0.4808 - val_accuracy: 0.6514\n",
            "Epoch 27/100\n",
            "9/9 [==============================] - 0s 15ms/step - loss: 0.0026 - accuracy: 0.9994 - val_loss: 0.5322 - val_accuracy: 0.6305\n",
            "Epoch 28/100\n",
            "9/9 [==============================] - 0s 15ms/step - loss: 3.6278e-04 - accuracy: 1.0000 - val_loss: 0.4663 - val_accuracy: 0.6671\n",
            "Epoch 29/100\n",
            "9/9 [==============================] - 0s 16ms/step - loss: 2.2701e-04 - accuracy: 1.0000 - val_loss: 0.4196 - val_accuracy: 0.7311\n",
            "Epoch 30/100\n",
            "9/9 [==============================] - 0s 15ms/step - loss: 0.0019 - accuracy: 0.9994 - val_loss: 0.3157 - val_accuracy: 0.8877\n",
            "Epoch 31/100\n",
            "9/9 [==============================] - 0s 16ms/step - loss: 0.0015 - accuracy: 0.9988 - val_loss: 0.2839 - val_accuracy: 0.9086\n",
            "Epoch 32/100\n",
            "9/9 [==============================] - 0s 17ms/step - loss: 2.0679e-04 - accuracy: 1.0000 - val_loss: 0.2524 - val_accuracy: 0.9426\n",
            "Epoch 33/100\n",
            "9/9 [==============================] - 0s 16ms/step - loss: 2.3047e-04 - accuracy: 1.0000 - val_loss: 0.2349 - val_accuracy: 0.9452\n",
            "Epoch 34/100\n",
            "9/9 [==============================] - 0s 16ms/step - loss: 3.8458e-04 - accuracy: 1.0000 - val_loss: 0.2103 - val_accuracy: 0.9491\n",
            "Epoch 35/100\n",
            "9/9 [==============================] - 0s 16ms/step - loss: 2.8024e-04 - accuracy: 1.0000 - val_loss: 0.2075 - val_accuracy: 0.9334\n",
            "Epoch 36/100\n",
            "9/9 [==============================] - 0s 16ms/step - loss: 2.2347e-04 - accuracy: 1.0000 - val_loss: 0.1880 - val_accuracy: 0.9504\n",
            "Epoch 37/100\n",
            "9/9 [==============================] - 0s 16ms/step - loss: 0.0037 - accuracy: 0.9988 - val_loss: 0.1851 - val_accuracy: 0.9543\n",
            "Epoch 38/100\n",
            "9/9 [==============================] - 0s 16ms/step - loss: 6.0637e-04 - accuracy: 1.0000 - val_loss: 0.1771 - val_accuracy: 0.9478\n",
            "Epoch 39/100\n",
            "9/9 [==============================] - 0s 15ms/step - loss: 7.1648e-04 - accuracy: 0.9994 - val_loss: 0.1662 - val_accuracy: 0.9530\n",
            "Epoch 40/100\n",
            "9/9 [==============================] - 0s 17ms/step - loss: 6.8718e-04 - accuracy: 1.0000 - val_loss: 0.1593 - val_accuracy: 0.9452\n",
            "Epoch 41/100\n",
            "9/9 [==============================] - 0s 17ms/step - loss: 1.6990e-04 - accuracy: 1.0000 - val_loss: 0.1540 - val_accuracy: 0.9452\n",
            "Epoch 42/100\n",
            "9/9 [==============================] - 0s 15ms/step - loss: 3.4891e-05 - accuracy: 1.0000 - val_loss: 0.1465 - val_accuracy: 0.9478\n",
            "Epoch 43/100\n",
            "9/9 [==============================] - 0s 16ms/step - loss: 1.7394e-04 - accuracy: 1.0000 - val_loss: 0.1382 - val_accuracy: 0.9413\n",
            "Epoch 44/100\n",
            "9/9 [==============================] - 0s 15ms/step - loss: 1.1666e-04 - accuracy: 1.0000 - val_loss: 0.1170 - val_accuracy: 0.9674\n",
            "Epoch 45/100\n",
            "9/9 [==============================] - 0s 16ms/step - loss: 0.0046 - accuracy: 0.9988 - val_loss: 0.1195 - val_accuracy: 0.9595\n",
            "Epoch 46/100\n",
            "9/9 [==============================] - 0s 16ms/step - loss: 5.8013e-04 - accuracy: 1.0000 - val_loss: 0.1291 - val_accuracy: 0.9530\n",
            "Epoch 47/100\n",
            "9/9 [==============================] - 0s 16ms/step - loss: 9.8152e-05 - accuracy: 1.0000 - val_loss: 0.1227 - val_accuracy: 0.9556\n",
            "Epoch 48/100\n",
            "9/9 [==============================] - 0s 15ms/step - loss: 3.1335e-05 - accuracy: 1.0000 - val_loss: 0.1826 - val_accuracy: 0.9151\n",
            "Epoch 49/100\n",
            "9/9 [==============================] - 0s 15ms/step - loss: 0.0175 - accuracy: 0.9982 - val_loss: 0.1374 - val_accuracy: 0.9399\n",
            "Epoch 50/100\n",
            "9/9 [==============================] - 0s 15ms/step - loss: 2.1932e-05 - accuracy: 1.0000 - val_loss: 0.1295 - val_accuracy: 0.9465\n",
            "Epoch 51/100\n",
            "9/9 [==============================] - 0s 15ms/step - loss: 1.9217e-05 - accuracy: 1.0000 - val_loss: 0.1216 - val_accuracy: 0.9517\n",
            "Epoch 52/100\n",
            "9/9 [==============================] - 0s 17ms/step - loss: 3.1375e-04 - accuracy: 1.0000 - val_loss: 0.1303 - val_accuracy: 0.9426\n",
            "Epoch 53/100\n",
            "9/9 [==============================] - 0s 17ms/step - loss: 0.0027 - accuracy: 0.9988 - val_loss: 0.0912 - val_accuracy: 0.9634\n",
            "Epoch 54/100\n",
            "9/9 [==============================] - 0s 15ms/step - loss: 3.0483e-04 - accuracy: 1.0000 - val_loss: 0.1453 - val_accuracy: 0.9413\n",
            "Epoch 55/100\n",
            "9/9 [==============================] - 0s 16ms/step - loss: 1.1062e-04 - accuracy: 1.0000 - val_loss: 0.1464 - val_accuracy: 0.9413\n",
            "Epoch 56/100\n",
            "9/9 [==============================] - 0s 17ms/step - loss: 9.1313e-04 - accuracy: 0.9994 - val_loss: 0.1207 - val_accuracy: 0.9465\n",
            "Epoch 57/100\n",
            "9/9 [==============================] - 0s 15ms/step - loss: 0.0012 - accuracy: 0.9994 - val_loss: 0.1032 - val_accuracy: 0.9556\n",
            "Epoch 58/100\n",
            "9/9 [==============================] - 0s 15ms/step - loss: 2.2698e-04 - accuracy: 1.0000 - val_loss: 0.1029 - val_accuracy: 0.9569\n",
            "Epoch 59/100\n",
            "9/9 [==============================] - 0s 16ms/step - loss: 5.0995e-04 - accuracy: 1.0000 - val_loss: 0.0952 - val_accuracy: 0.9582\n",
            "Epoch 60/100\n",
            "9/9 [==============================] - 0s 15ms/step - loss: 0.0031 - accuracy: 0.9988 - val_loss: 0.1262 - val_accuracy: 0.9569\n",
            "Epoch 61/100\n",
            "9/9 [==============================] - 0s 16ms/step - loss: 0.0024 - accuracy: 0.9994 - val_loss: 0.1622 - val_accuracy: 0.9465\n",
            "Epoch 62/100\n",
            "9/9 [==============================] - 0s 16ms/step - loss: 1.7226e-04 - accuracy: 1.0000 - val_loss: 0.1368 - val_accuracy: 0.9569\n",
            "Epoch 63/100\n",
            "9/9 [==============================] - 0s 15ms/step - loss: 0.0049 - accuracy: 0.9994 - val_loss: 0.1282 - val_accuracy: 0.9439\n",
            "Epoch 64/100\n",
            "9/9 [==============================] - 0s 16ms/step - loss: 0.0045 - accuracy: 0.9994 - val_loss: 0.1052 - val_accuracy: 0.9621\n",
            "Epoch 65/100\n",
            "9/9 [==============================] - 0s 15ms/step - loss: 3.4571e-05 - accuracy: 1.0000 - val_loss: 0.1002 - val_accuracy: 0.9582\n",
            "Epoch 66/100\n",
            "9/9 [==============================] - 0s 16ms/step - loss: 0.0051 - accuracy: 0.9976 - val_loss: 0.1215 - val_accuracy: 0.9491\n",
            "Epoch 67/100\n",
            "9/9 [==============================] - 0s 16ms/step - loss: 1.1416e-04 - accuracy: 1.0000 - val_loss: 0.1941 - val_accuracy: 0.9217\n",
            "Epoch 68/100\n",
            "9/9 [==============================] - 0s 16ms/step - loss: 7.0350e-05 - accuracy: 1.0000 - val_loss: 0.2262 - val_accuracy: 0.9099\n",
            "Epoch 69/100\n",
            "9/9 [==============================] - 0s 15ms/step - loss: 2.9065e-04 - accuracy: 1.0000 - val_loss: 0.2246 - val_accuracy: 0.9138\n",
            "Epoch 70/100\n",
            "9/9 [==============================] - 0s 16ms/step - loss: 5.5659e-05 - accuracy: 1.0000 - val_loss: 0.2157 - val_accuracy: 0.9138\n",
            "Epoch 71/100\n",
            "9/9 [==============================] - 0s 16ms/step - loss: 1.4950e-05 - accuracy: 1.0000 - val_loss: 0.2294 - val_accuracy: 0.9125\n",
            "Epoch 72/100\n",
            "9/9 [==============================] - 0s 16ms/step - loss: 1.1156e-04 - accuracy: 1.0000 - val_loss: 0.5365 - val_accuracy: 0.8512\n",
            "Epoch 73/100\n",
            "9/9 [==============================] - 0s 16ms/step - loss: 9.9574e-05 - accuracy: 1.0000 - val_loss: 0.3687 - val_accuracy: 0.8786\n",
            "Epoch 74/100\n",
            "9/9 [==============================] - 0s 16ms/step - loss: 9.0279e-05 - accuracy: 1.0000 - val_loss: 0.2986 - val_accuracy: 0.8943\n",
            "Epoch 75/100\n",
            "9/9 [==============================] - 0s 16ms/step - loss: 0.0016 - accuracy: 0.9994 - val_loss: 1.2429 - val_accuracy: 0.7715\n",
            "Epoch 76/100\n",
            "9/9 [==============================] - 0s 17ms/step - loss: 4.9277e-04 - accuracy: 1.0000 - val_loss: 1.1564 - val_accuracy: 0.7702\n",
            "Epoch 77/100\n",
            "9/9 [==============================] - 0s 15ms/step - loss: 6.7186e-04 - accuracy: 1.0000 - val_loss: 1.7327 - val_accuracy: 0.7415\n",
            "Epoch 78/100\n",
            "9/9 [==============================] - 0s 15ms/step - loss: 0.0015 - accuracy: 0.9994 - val_loss: 0.4052 - val_accuracy: 0.8825\n",
            "Epoch 79/100\n",
            "9/9 [==============================] - 0s 16ms/step - loss: 2.1196e-04 - accuracy: 1.0000 - val_loss: 0.4558 - val_accuracy: 0.8734\n",
            "Epoch 80/100\n",
            "9/9 [==============================] - 0s 17ms/step - loss: 5.3971e-05 - accuracy: 1.0000 - val_loss: 0.7440 - val_accuracy: 0.8225\n",
            "Epoch 81/100\n",
            "9/9 [==============================] - 0s 16ms/step - loss: 4.9420e-04 - accuracy: 0.9994 - val_loss: 0.4455 - val_accuracy: 0.8760\n",
            "Epoch 82/100\n",
            "9/9 [==============================] - 0s 15ms/step - loss: 6.7182e-04 - accuracy: 0.9994 - val_loss: 0.6374 - val_accuracy: 0.8460\n",
            "Epoch 83/100\n",
            "9/9 [==============================] - 0s 16ms/step - loss: 2.4883e-05 - accuracy: 1.0000 - val_loss: 0.7422 - val_accuracy: 0.8290\n",
            "Epoch 84/100\n",
            "9/9 [==============================] - 0s 15ms/step - loss: 0.0011 - accuracy: 0.9994 - val_loss: 0.3978 - val_accuracy: 0.8812\n",
            "Epoch 85/100\n",
            "9/9 [==============================] - 0s 17ms/step - loss: 3.3979e-04 - accuracy: 1.0000 - val_loss: 0.3318 - val_accuracy: 0.8969\n",
            "Epoch 86/100\n",
            "9/9 [==============================] - 0s 16ms/step - loss: 0.0013 - accuracy: 0.9994 - val_loss: 0.8934 - val_accuracy: 0.8159\n",
            "Epoch 87/100\n",
            "9/9 [==============================] - 0s 17ms/step - loss: 0.0036 - accuracy: 0.9988 - val_loss: 0.6290 - val_accuracy: 0.8381\n",
            "Epoch 88/100\n",
            "9/9 [==============================] - 0s 16ms/step - loss: 0.0027 - accuracy: 0.9994 - val_loss: 0.9445 - val_accuracy: 0.8003\n",
            "Epoch 89/100\n",
            "9/9 [==============================] - 0s 15ms/step - loss: 1.4251e-04 - accuracy: 1.0000 - val_loss: 1.0567 - val_accuracy: 0.7911\n",
            "Epoch 90/100\n",
            "9/9 [==============================] - 0s 16ms/step - loss: 8.2533e-04 - accuracy: 0.9994 - val_loss: 1.3849 - val_accuracy: 0.7768\n",
            "Epoch 91/100\n",
            "9/9 [==============================] - 0s 16ms/step - loss: 1.8510e-04 - accuracy: 1.0000 - val_loss: 1.2611 - val_accuracy: 0.7820\n",
            "Epoch 92/100\n",
            "9/9 [==============================] - 0s 16ms/step - loss: 3.2113e-05 - accuracy: 1.0000 - val_loss: 0.9147 - val_accuracy: 0.8094\n",
            "Epoch 93/100\n",
            "9/9 [==============================] - 0s 15ms/step - loss: 1.9003e-04 - accuracy: 1.0000 - val_loss: 0.9101 - val_accuracy: 0.8068\n",
            "Epoch 94/100\n",
            "9/9 [==============================] - 0s 18ms/step - loss: 0.0012 - accuracy: 0.9994 - val_loss: 0.1458 - val_accuracy: 0.9569\n",
            "Epoch 95/100\n",
            "9/9 [==============================] - 0s 15ms/step - loss: 0.0024 - accuracy: 0.9988 - val_loss: 0.1237 - val_accuracy: 0.9582\n",
            "Epoch 96/100\n",
            "9/9 [==============================] - 0s 16ms/step - loss: 6.0307e-05 - accuracy: 1.0000 - val_loss: 0.1175 - val_accuracy: 0.9608\n",
            "Epoch 97/100\n",
            "9/9 [==============================] - 0s 15ms/step - loss: 8.2445e-05 - accuracy: 1.0000 - val_loss: 0.1153 - val_accuracy: 0.9621\n",
            "Epoch 98/100\n",
            "9/9 [==============================] - 0s 16ms/step - loss: 1.4008e-04 - accuracy: 1.0000 - val_loss: 0.1827 - val_accuracy: 0.9465\n",
            "Epoch 99/100\n",
            "9/9 [==============================] - 0s 15ms/step - loss: 1.3680e-04 - accuracy: 1.0000 - val_loss: 0.1520 - val_accuracy: 0.9569\n",
            "Epoch 100/100\n",
            "9/9 [==============================] - 0s 15ms/step - loss: 4.6488e-04 - accuracy: 1.0000 - val_loss: 0.2380 - val_accuracy: 0.9347\n"
          ],
          "name": "stdout"
        }
      ]
    },
    {
      "cell_type": "markdown",
      "metadata": {
        "id": "U0X-uwdarK_7"
      },
      "source": [
        "### График \n",
        "\n",
        "\n",
        "\n",
        "\n",
        "\n",
        "\n"
      ]
    },
    {
      "cell_type": "code",
      "metadata": {
        "colab": {
          "base_uri": "https://localhost:8080/",
          "height": 651
        },
        "id": "2YsDBIT7rK_8",
        "outputId": "f32ec5e1-64e2-4ca9-fa4d-48bc3a399b84"
      },
      "source": [
        "chart(history_model_LSTM_Conv1D)"
      ],
      "execution_count": null,
      "outputs": [
        {
          "output_type": "display_data",
          "data": {
            "image/png": "[encoded data removed]",
            "text/plain": [
              "<Figure size 720x360 with 1 Axes>"
            ]
          },
          "metadata": {
            "tags": [],
            "needs_background": "light"
          }
        },
        {
          "output_type": "display_data",
          "data": {
            "image/png": "[encoded data removed]",
            "text/plain": [
              "<Figure size 720x360 with 1 Axes>"
            ]
          },
          "metadata": {
            "tags": [],
            "needs_background": "light"
          }
        }
      ]
    },
    {
      "cell_type": "markdown",
      "metadata": {
        "id": "sFI1GblsrK_9"
      },
      "source": [
        "### Средний процент и таблица"
      ]
    },
    {
      "cell_type": "code",
      "metadata": {
        "colab": {
          "base_uri": "https://localhost:8080/"
        },
        "id": "yp7kcyBNrK_-",
        "outputId": "6e683c36-31b7-4b86-b4c1-8cada09e207a"
      },
      "source": [
        "# Посмотрим на результат на тестовой выборке\n",
        "val_model_LSTM_Conv1D, average_model_LSTM_Conv1D = recognizeMultiClass(model_LSTM_Conv1D, xTest6Classes, \"model_LSTM_Conv1D\")"
      ],
      "execution_count": null,
      "outputs": [
        {
          "output_type": "stream",
          "text": [
            "Нейронная сеть:  model_LSTM_Conv1D\n",
            "\n",
            "Юля  распознано  98 % сеть считает, что это  Юля ,  распознано ВЕРНО!\n",
            "Елена  распознано  88 % сеть считает, что это  Елена ,  распознано ВЕРНО!\n",
            "\n",
            "Средний процент распознавания  93 %\n"
          ],
          "name": "stdout"
        }
      ]
    },
    {
      "cell_type": "code",
      "metadata": {
        "id": "d6Zi1BI2rK__"
      },
      "source": [
        "# C помощью функции получаем значения на последней эпохе\n",
        "result_model_LSTM_Conv1D = table(history_model_LSTM_Conv1D)    "
      ],
      "execution_count": null,
      "outputs": []
    },
    {
      "cell_type": "code",
      "metadata": {
        "id": "Sg72K6lXrK__"
      },
      "source": [
        "# Заносим результат в таблицу\n",
        "df.loc['LSTM_Conv1D'] = [round(val_model_LSTM_Conv1D[0]*100, 2), round(val_model_LSTM_Conv1D[1]*100, 2), round(min(result_model_LSTM_Conv1D[0]),4), round(max(result_model_LSTM_Conv1D[1]*100), 2), round(min(result_model_LSTM_Conv1D[2]),2), round(max(result_model_LSTM_Conv1D[3]*100),2), average_model_LSTM_Conv1D]"
      ],
      "execution_count": null,
      "outputs": []
    },
    {
      "cell_type": "markdown",
      "metadata": {
        "id": "ggdUbhXHDHpD"
      },
      "source": [
        "# Общая сравнительная таблица"
      ]
    },
    {
      "cell_type": "code",
      "metadata": {
        "colab": {
          "base_uri": "https://localhost:8080/",
          "height": 173
        },
        "id": "Em47hUzUrLAA",
        "outputId": "c62913cf-d3cf-4222-b758-7fb4e741fdce"
      },
      "source": [
        "df"
      ],
      "execution_count": null,
      "outputs": [
        {
          "output_type": "execute_result",
          "data": {
            "text/html": [
              "<div>\n",
              "<style scoped>\n",
              "    .dataframe tbody tr th:only-of-type {\n",
              "        vertical-align: middle;\n",
              "    }\n",
              "\n",
              "    .dataframe tbody tr th {\n",
              "        vertical-align: top;\n",
              "    }\n",
              "\n",
              "    .dataframe thead th {\n",
              "        text-align: right;\n",
              "    }\n",
              "</style>\n",
              "<table border=\"1\" class=\"dataframe\">\n",
              "  <thead>\n",
              "    <tr style=\"text-align: right;\">\n",
              "      <th></th>\n",
              "      <th>Юля</th>\n",
              "      <th>Елена</th>\n",
              "      <th>learn_loss(min)</th>\n",
              "      <th>learn_accuracy(max)</th>\n",
              "      <th>val_loss(min)</th>\n",
              "      <th>val_accuracy(max)</th>\n",
              "      <th>Средний процент распознавания на проверочной выборке</th>\n",
              "    </tr>\n",
              "  </thead>\n",
              "  <tbody>\n",
              "    <tr>\n",
              "      <th>Bow</th>\n",
              "      <td>98.99</td>\n",
              "      <td>94.85</td>\n",
              "      <td>0.0000</td>\n",
              "      <td>100.0</td>\n",
              "      <td>0.07</td>\n",
              "      <td>97.00</td>\n",
              "      <td>96.0</td>\n",
              "    </tr>\n",
              "    <tr>\n",
              "      <th>LSTM</th>\n",
              "      <td>96.73</td>\n",
              "      <td>91.33</td>\n",
              "      <td>0.0004</td>\n",
              "      <td>100.0</td>\n",
              "      <td>0.14</td>\n",
              "      <td>95.69</td>\n",
              "      <td>94.0</td>\n",
              "    </tr>\n",
              "    <tr>\n",
              "      <th>Conv_1D</th>\n",
              "      <td>32.75</td>\n",
              "      <td>100.00</td>\n",
              "      <td>0.0000</td>\n",
              "      <td>100.0</td>\n",
              "      <td>0.69</td>\n",
              "      <td>77.28</td>\n",
              "      <td>65.0</td>\n",
              "    </tr>\n",
              "    <tr>\n",
              "      <th>LSTM_Conv1D</th>\n",
              "      <td>98.24</td>\n",
              "      <td>88.35</td>\n",
              "      <td>0.0000</td>\n",
              "      <td>100.0</td>\n",
              "      <td>0.09</td>\n",
              "      <td>96.74</td>\n",
              "      <td>93.0</td>\n",
              "    </tr>\n",
              "  </tbody>\n",
              "</table>\n",
              "</div>"
            ],
            "text/plain": [
              "               Юля  ...  Средний процент распознавания на проверочной выборке\n",
              "Bow          98.99  ...                                               96.0   \n",
              "LSTM         96.73  ...                                               94.0   \n",
              "Conv_1D      32.75  ...                                               65.0   \n",
              "LSTM_Conv1D  98.24  ...                                               93.0   \n",
              "\n",
              "[4 rows x 7 columns]"
            ]
          },
          "metadata": {
            "tags": []
          },
          "execution_count": 90
        }
      ]
    },
    {
      "cell_type": "markdown",
      "metadata": {
        "id": "oCdwU847t8Dg"
      },
      "source": [
        "# Выводы:"
      ]
    },
    {
      "cell_type": "markdown",
      "metadata": {
        "id": "NOsTsEKGt9z9"
      },
      "source": [
        "1. Для того чтобы сравнивать возьмем нейронную сеть с **BOW** как основную и сеть, которая показала лучшие результаты.\n",
        "2. В целом остальные подходы **CNN** и **RNN** показали хорошие результаты.\n",
        "3. Как видно из таблицы нейронная сеть со сверточным слоем **Conv1D** показала худший результат. По грфику видно что сеть переобучилась и заучила все ответы на обучающую выборку, что плохо сказалось на тестовой. \n",
        "4. Видно что нейронные сети в предсказании двух авторов лучше справляются чем с шестью (из задания **Pro**)\n",
        "5. Для более точного результата нужно производить как минимум **10** обучений нейронных сетей и смотреть средний результат.\n",
        "6. Показатели можно улучшить если дообучать, используя меньший шаг(**learning rate**)\n",
        "7. Изменяя архитектуру сети и гиперпараметры можно добиться лучшего результата и в целом любой подход в данной задаче **CNN** или **RNN** может быть оправдан.\n",
        "8. При компеляции **loss** был изменен на **binary_crossentropy** для лучшего результата.\n",
        "9. При обучении сети хорошо выводить графики и анализировать результат. \n",
        "10. Несмотря на относительно небольшую обучающую выборку, нейронные сети показали хороший результат. \n"
      ]
    }
  ]
}